{
 "cells": [
  {
   "cell_type": "code",
   "execution_count": 20,
   "id": "ca4e3691",
   "metadata": {},
   "outputs": [],
   "source": [
    "import os\n",
    "import re\n",
    "import pandas as pd\n",
    "import numpy as np\n",
    "from datetime import datetime"
   ]
  },
  {
   "cell_type": "code",
   "execution_count": 2,
   "id": "97df9e6f",
   "metadata": {},
   "outputs": [],
   "source": [
    "data_dir = os.path.join(os.path.expanduser('~'), 'data','ofij')\n",
    "if not os.path.exists(data_dir):\n",
    "    os.makedirs(data_dir)\n",
    "\n",
    "# files\n",
    "kospicode_filename = 'kospi_code.csv'\n",
    "stinfo_filename = os.path.join(data_dir, 'stock_info.feather')\n",
    "stprc_filename = os.path.join(data_dir, 'stock_prices.feather')\n",
    "\n",
    "\n",
    "dfstcode = pd.read_csv(kospicode_filename)\n",
    "dfstinfo = pd.read_feather(stinfo_filename)\n",
    "dfstprc = pd.read_feather(stprc_filename)\n",
    "\n",
    "df = dfstinfo.merge(dfstcode, how='left', on='단축코드')\n",
    "\n",
    "dfmeta = pd.DataFrame({\n",
    "    '한글명': df['한글명'],  # Company Name\n",
    "    '표준코드': df['표준코드'],  # Standard Product Code\n",
    "    '단축코드': df['단축코드'],  # Short Stock Code\n",
    "    '상장일자': pd.to_datetime(df['상장일자'], format='%Y%m%d'),  # Listed Date\n",
    "    '시장구분': df['KOSPI'].apply(lambda x: 'KOSPI' if x == 'Y' else 'Other'),  # Market (KOSPI or Others)\n",
    "    '업종대분류': df['idx_bztp_lcls_cd_name'],  # Industry Size Category\n",
    "    '업종중분류': df['idx_bztp_mcls_cd_name'],  # Industry Medium Category\n",
    "    '표준산업분류': df['std_idst_clsf_cd_name'],  # Industry Detailed Category\n",
    "    '액면가': df['액면가'],  # Face value\n",
    "    '시가총액(억 원)': df['시가총액'],  # Market Cap in Hundred-Million KRW\n",
    "    '매출액(억 원)': df['매출액'],  # Sales\n",
    "    '영업이익(억 원)': df['영업이익'],  # Operating Profit\n",
    "    '당기순이익(억 원)': df['당기순이익'],  # Net Profit\n",
    "    'ROE(%)': df['ROE'],  # Return on Equity\n",
    "    '전일종가(원)': df['기준가'],  # Previous Closing Price \n",
    "    '신용가능': df['신용가능'].apply(lambda x: True if x == 'Y' else False),  # Credit investment possibility\n",
    "    '증거금비율(%)': df['증거금비율'],  # Margin Rate Requirement\n",
    "    'KRX바이오': df['KRX바이오'].apply(lambda x: True if x == 'Y' else False),  # Part of KRX Bio\n",
    "    '관리종목': df['관리종목'].apply(lambda x: True if x == 'Y' else False),  # Admin-Managed Issue \n",
    "    '거래정지': df['거래정지'].apply(lambda x: True if x == 'Y' else False),  # Trading Suspension\n",
    "    '불성실공시': df['불성실공시'].apply(lambda x: True if x == 'Y' else False),  # Unfaithful Disclosure\n",
    "    '이상급등': df['이상급등'].apply(lambda x: True if x == 'Y' else False),  # Sudden Price Surge\n",
    "}).reset_index(drop=True)\n",
    "\n"
   ]
  },
  {
   "cell_type": "code",
   "execution_count": 3,
   "id": "2b4b7c61",
   "metadata": {},
   "outputs": [
    {
     "data": {
      "application/vnd.microsoft.datawrangler.viewer.v0+json": {
       "columns": [
        {
         "name": "index",
         "rawType": "int64",
         "type": "integer"
        },
        {
         "name": "한글명",
         "rawType": "object",
         "type": "string"
        },
        {
         "name": "표준코드",
         "rawType": "object",
         "type": "string"
        },
        {
         "name": "단축코드",
         "rawType": "object",
         "type": "string"
        },
        {
         "name": "상장일자",
         "rawType": "datetime64[ns]",
         "type": "datetime"
        },
        {
         "name": "시장구분",
         "rawType": "object",
         "type": "string"
        },
        {
         "name": "업종대분류",
         "rawType": "object",
         "type": "string"
        },
        {
         "name": "업종중분류",
         "rawType": "object",
         "type": "string"
        },
        {
         "name": "표준산업분류",
         "rawType": "object",
         "type": "string"
        },
        {
         "name": "액면가",
         "rawType": "int64",
         "type": "integer"
        },
        {
         "name": "시가총액(억 원)",
         "rawType": "int64",
         "type": "integer"
        },
        {
         "name": "매출액(억 원)",
         "rawType": "int64",
         "type": "integer"
        },
        {
         "name": "영업이익(억 원)",
         "rawType": "int64",
         "type": "integer"
        },
        {
         "name": "당기순이익(억 원)",
         "rawType": "int64",
         "type": "integer"
        },
        {
         "name": "ROE(%)",
         "rawType": "float64",
         "type": "float"
        },
        {
         "name": "전일종가(원)",
         "rawType": "int64",
         "type": "integer"
        },
        {
         "name": "신용가능",
         "rawType": "bool",
         "type": "boolean"
        },
        {
         "name": "증거금비율(%)",
         "rawType": "int64",
         "type": "integer"
        },
        {
         "name": "KRX바이오",
         "rawType": "bool",
         "type": "boolean"
        },
        {
         "name": "관리종목",
         "rawType": "bool",
         "type": "boolean"
        },
        {
         "name": "거래정지",
         "rawType": "bool",
         "type": "boolean"
        },
        {
         "name": "불성실공시",
         "rawType": "bool",
         "type": "boolean"
        },
        {
         "name": "이상급등",
         "rawType": "bool",
         "type": "boolean"
        }
       ],
       "conversionMethod": "pd.DataFrame",
       "ref": "6b0454f8-713b-4180-83b6-21c5a88e5db0",
       "rows": [
        [
         "0",
         "동화약품",
         "KR7000020008",
         "000020",
         "1976-03-24 00:00:00",
         "KOSPI",
         "시가총액규모중",
         "의약품",
         "의약품 제조업",
         "1000",
         "1726",
         "4649",
         "134",
         "21",
         "1.49",
         "6180",
         "True",
         "60",
         "True",
         "False",
         "False",
         "False",
         "False"
        ],
        [
         "1",
         "KR모터스",
         "KR7000040006",
         "000040",
         "1976-05-25 00:00:00",
         "KOSPI",
         "시가총액규모소",
         "운수장비",
         "그외 기타 운송장비 제조업",
         "500",
         "276",
         "160",
         "-49",
         "-142",
         "-42.76",
         "460",
         "False",
         "100",
         "False",
         "False",
         "False",
         "False",
         "False"
        ],
        [
         "2",
         "경방",
         "KR7000050005",
         "000050",
         "1956-03-03 00:00:00",
         "KOSPI",
         "시가총액규모중",
         "섬유,의복",
         "종합 소매업",
         "500",
         "1781",
         "3973",
         "334",
         "236",
         "3.15",
         "6500",
         "True",
         "60",
         "False",
         "False",
         "False",
         "False",
         "False"
        ],
        [
         "3",
         "삼양홀딩스",
         "KR7000070003",
         "000070",
         "1968-12-27 00:00:00",
         "KOSPI",
         "시가총액규모중",
         "음식료품",
         "기타 금융업",
         "5000",
         "4958",
         "35533",
         "1275",
         "895",
         "1.38",
         "57900",
         "True",
         "60",
         "False",
         "False",
         "False",
         "False",
         "False"
        ],
        [
         "4",
         "삼양홀딩스우",
         "KR7000071001",
         "000075",
         "1992-02-21 00:00:00",
         "Other",
         "시가총액규모중",
         "음식료품",
         "기타 금융업",
         "5000",
         "174",
         "0",
         "0",
         "0",
         "0.0",
         "57400",
         "False",
         "100",
         "False",
         "False",
         "False",
         "False",
         "False"
        ]
       ],
       "shape": {
        "columns": 22,
        "rows": 5
       }
      },
      "text/html": [
       "<div>\n",
       "<style scoped>\n",
       "    .dataframe tbody tr th:only-of-type {\n",
       "        vertical-align: middle;\n",
       "    }\n",
       "\n",
       "    .dataframe tbody tr th {\n",
       "        vertical-align: top;\n",
       "    }\n",
       "\n",
       "    .dataframe thead th {\n",
       "        text-align: right;\n",
       "    }\n",
       "</style>\n",
       "<table border=\"1\" class=\"dataframe\">\n",
       "  <thead>\n",
       "    <tr style=\"text-align: right;\">\n",
       "      <th></th>\n",
       "      <th>한글명</th>\n",
       "      <th>표준코드</th>\n",
       "      <th>단축코드</th>\n",
       "      <th>상장일자</th>\n",
       "      <th>시장구분</th>\n",
       "      <th>업종대분류</th>\n",
       "      <th>업종중분류</th>\n",
       "      <th>표준산업분류</th>\n",
       "      <th>액면가</th>\n",
       "      <th>시가총액(억 원)</th>\n",
       "      <th>...</th>\n",
       "      <th>당기순이익(억 원)</th>\n",
       "      <th>ROE(%)</th>\n",
       "      <th>전일종가(원)</th>\n",
       "      <th>신용가능</th>\n",
       "      <th>증거금비율(%)</th>\n",
       "      <th>KRX바이오</th>\n",
       "      <th>관리종목</th>\n",
       "      <th>거래정지</th>\n",
       "      <th>불성실공시</th>\n",
       "      <th>이상급등</th>\n",
       "    </tr>\n",
       "  </thead>\n",
       "  <tbody>\n",
       "    <tr>\n",
       "      <th>0</th>\n",
       "      <td>동화약품</td>\n",
       "      <td>KR7000020008</td>\n",
       "      <td>000020</td>\n",
       "      <td>1976-03-24</td>\n",
       "      <td>KOSPI</td>\n",
       "      <td>시가총액규모중</td>\n",
       "      <td>의약품</td>\n",
       "      <td>의약품 제조업</td>\n",
       "      <td>1000</td>\n",
       "      <td>1726</td>\n",
       "      <td>...</td>\n",
       "      <td>21</td>\n",
       "      <td>1.49</td>\n",
       "      <td>6180</td>\n",
       "      <td>True</td>\n",
       "      <td>60</td>\n",
       "      <td>True</td>\n",
       "      <td>False</td>\n",
       "      <td>False</td>\n",
       "      <td>False</td>\n",
       "      <td>False</td>\n",
       "    </tr>\n",
       "    <tr>\n",
       "      <th>1</th>\n",
       "      <td>KR모터스</td>\n",
       "      <td>KR7000040006</td>\n",
       "      <td>000040</td>\n",
       "      <td>1976-05-25</td>\n",
       "      <td>KOSPI</td>\n",
       "      <td>시가총액규모소</td>\n",
       "      <td>운수장비</td>\n",
       "      <td>그외 기타 운송장비 제조업</td>\n",
       "      <td>500</td>\n",
       "      <td>276</td>\n",
       "      <td>...</td>\n",
       "      <td>-142</td>\n",
       "      <td>-42.76</td>\n",
       "      <td>460</td>\n",
       "      <td>False</td>\n",
       "      <td>100</td>\n",
       "      <td>False</td>\n",
       "      <td>False</td>\n",
       "      <td>False</td>\n",
       "      <td>False</td>\n",
       "      <td>False</td>\n",
       "    </tr>\n",
       "    <tr>\n",
       "      <th>2</th>\n",
       "      <td>경방</td>\n",
       "      <td>KR7000050005</td>\n",
       "      <td>000050</td>\n",
       "      <td>1956-03-03</td>\n",
       "      <td>KOSPI</td>\n",
       "      <td>시가총액규모중</td>\n",
       "      <td>섬유,의복</td>\n",
       "      <td>종합 소매업</td>\n",
       "      <td>500</td>\n",
       "      <td>1781</td>\n",
       "      <td>...</td>\n",
       "      <td>236</td>\n",
       "      <td>3.15</td>\n",
       "      <td>6500</td>\n",
       "      <td>True</td>\n",
       "      <td>60</td>\n",
       "      <td>False</td>\n",
       "      <td>False</td>\n",
       "      <td>False</td>\n",
       "      <td>False</td>\n",
       "      <td>False</td>\n",
       "    </tr>\n",
       "    <tr>\n",
       "      <th>3</th>\n",
       "      <td>삼양홀딩스</td>\n",
       "      <td>KR7000070003</td>\n",
       "      <td>000070</td>\n",
       "      <td>1968-12-27</td>\n",
       "      <td>KOSPI</td>\n",
       "      <td>시가총액규모중</td>\n",
       "      <td>음식료품</td>\n",
       "      <td>기타 금융업</td>\n",
       "      <td>5000</td>\n",
       "      <td>4958</td>\n",
       "      <td>...</td>\n",
       "      <td>895</td>\n",
       "      <td>1.38</td>\n",
       "      <td>57900</td>\n",
       "      <td>True</td>\n",
       "      <td>60</td>\n",
       "      <td>False</td>\n",
       "      <td>False</td>\n",
       "      <td>False</td>\n",
       "      <td>False</td>\n",
       "      <td>False</td>\n",
       "    </tr>\n",
       "    <tr>\n",
       "      <th>4</th>\n",
       "      <td>삼양홀딩스우</td>\n",
       "      <td>KR7000071001</td>\n",
       "      <td>000075</td>\n",
       "      <td>1992-02-21</td>\n",
       "      <td>Other</td>\n",
       "      <td>시가총액규모중</td>\n",
       "      <td>음식료품</td>\n",
       "      <td>기타 금융업</td>\n",
       "      <td>5000</td>\n",
       "      <td>174</td>\n",
       "      <td>...</td>\n",
       "      <td>0</td>\n",
       "      <td>0.00</td>\n",
       "      <td>57400</td>\n",
       "      <td>False</td>\n",
       "      <td>100</td>\n",
       "      <td>False</td>\n",
       "      <td>False</td>\n",
       "      <td>False</td>\n",
       "      <td>False</td>\n",
       "      <td>False</td>\n",
       "    </tr>\n",
       "  </tbody>\n",
       "</table>\n",
       "<p>5 rows × 22 columns</p>\n",
       "</div>"
      ],
      "text/plain": [
       "      한글명          표준코드    단축코드       상장일자   시장구분    업종대분류  업종중분류  \\\n",
       "0    동화약품  KR7000020008  000020 1976-03-24  KOSPI  시가총액규모중    의약품   \n",
       "1   KR모터스  KR7000040006  000040 1976-05-25  KOSPI  시가총액규모소   운수장비   \n",
       "2      경방  KR7000050005  000050 1956-03-03  KOSPI  시가총액규모중  섬유,의복   \n",
       "3   삼양홀딩스  KR7000070003  000070 1968-12-27  KOSPI  시가총액규모중   음식료품   \n",
       "4  삼양홀딩스우  KR7000071001  000075 1992-02-21  Other  시가총액규모중   음식료품   \n",
       "\n",
       "           표준산업분류   액면가  시가총액(억 원)  ...  당기순이익(억 원)  ROE(%)  전일종가(원)   신용가능  \\\n",
       "0         의약품 제조업  1000       1726  ...          21    1.49     6180   True   \n",
       "1  그외 기타 운송장비 제조업   500        276  ...        -142  -42.76      460  False   \n",
       "2          종합 소매업   500       1781  ...         236    3.15     6500   True   \n",
       "3          기타 금융업  5000       4958  ...         895    1.38    57900   True   \n",
       "4          기타 금융업  5000        174  ...           0    0.00    57400  False   \n",
       "\n",
       "   증거금비율(%)  KRX바이오   관리종목   거래정지  불성실공시   이상급등  \n",
       "0        60    True  False  False  False  False  \n",
       "1       100   False  False  False  False  False  \n",
       "2        60   False  False  False  False  False  \n",
       "3        60   False  False  False  False  False  \n",
       "4       100   False  False  False  False  False  \n",
       "\n",
       "[5 rows x 22 columns]"
      ]
     },
     "execution_count": 3,
     "metadata": {},
     "output_type": "execute_result"
    }
   ],
   "source": [
    "dfmeta.head()"
   ]
  },
  {
   "cell_type": "code",
   "execution_count": 7,
   "id": "5a7f07a1",
   "metadata": {},
   "outputs": [
    {
     "data": {
      "application/vnd.microsoft.datawrangler.viewer.v0+json": {
       "columns": [
        {
         "name": "PERIOD_CODE",
         "rawType": "object",
         "type": "string"
        },
        {
         "name": "('stck_bsop_date', 'min')",
         "rawType": "object",
         "type": "string"
        },
        {
         "name": "('stck_bsop_date', 'max')",
         "rawType": "object",
         "type": "string"
        }
       ],
       "conversionMethod": "pd.DataFrame",
       "ref": "4171c415-6918-4232-809b-b529f0e39b34",
       "rows": [
        [
         "D",
         "20250311",
         "20250421"
        ],
        [
         "M",
         "20221130",
         "20250421"
        ],
        [
         "W",
         "20240930",
         "20250421"
        ]
       ],
       "shape": {
        "columns": 2,
        "rows": 3
       }
      },
      "text/html": [
       "<div>\n",
       "<style scoped>\n",
       "    .dataframe tbody tr th:only-of-type {\n",
       "        vertical-align: middle;\n",
       "    }\n",
       "\n",
       "    .dataframe tbody tr th {\n",
       "        vertical-align: top;\n",
       "    }\n",
       "\n",
       "    .dataframe thead tr th {\n",
       "        text-align: left;\n",
       "    }\n",
       "\n",
       "    .dataframe thead tr:last-of-type th {\n",
       "        text-align: right;\n",
       "    }\n",
       "</style>\n",
       "<table border=\"1\" class=\"dataframe\">\n",
       "  <thead>\n",
       "    <tr>\n",
       "      <th></th>\n",
       "      <th colspan=\"2\" halign=\"left\">stck_bsop_date</th>\n",
       "    </tr>\n",
       "    <tr>\n",
       "      <th></th>\n",
       "      <th>min</th>\n",
       "      <th>max</th>\n",
       "    </tr>\n",
       "    <tr>\n",
       "      <th>PERIOD_CODE</th>\n",
       "      <th></th>\n",
       "      <th></th>\n",
       "    </tr>\n",
       "  </thead>\n",
       "  <tbody>\n",
       "    <tr>\n",
       "      <th>D</th>\n",
       "      <td>20250311</td>\n",
       "      <td>20250421</td>\n",
       "    </tr>\n",
       "    <tr>\n",
       "      <th>M</th>\n",
       "      <td>20221130</td>\n",
       "      <td>20250421</td>\n",
       "    </tr>\n",
       "    <tr>\n",
       "      <th>W</th>\n",
       "      <td>20240930</td>\n",
       "      <td>20250421</td>\n",
       "    </tr>\n",
       "  </tbody>\n",
       "</table>\n",
       "</div>"
      ],
      "text/plain": [
       "            stck_bsop_date          \n",
       "                       min       max\n",
       "PERIOD_CODE                         \n",
       "D                 20250311  20250421\n",
       "M                 20221130  20250421\n",
       "W                 20240930  20250421"
      ]
     },
     "execution_count": 7,
     "metadata": {},
     "output_type": "execute_result"
    }
   ],
   "source": [
    "dfstprc[dfstprc['STOCK_CODE'] == '005930'].groupby('PERIOD_CODE').agg({\n",
    "    'stck_bsop_date': ['min','max']\n",
    "})"
   ]
  },
  {
   "cell_type": "code",
   "execution_count": 5,
   "id": "31f943cc",
   "metadata": {},
   "outputs": [
    {
     "data": {
      "application/vnd.microsoft.datawrangler.viewer.v0+json": {
       "columns": [
        {
         "name": "index",
         "rawType": "int64",
         "type": "integer"
        },
        {
         "name": "stck_bsop_date",
         "rawType": "object",
         "type": "string"
        },
        {
         "name": "stck_oprc",
         "rawType": "object",
         "type": "string"
        },
        {
         "name": "stck_hgpr",
         "rawType": "object",
         "type": "string"
        },
        {
         "name": "stck_lwpr",
         "rawType": "object",
         "type": "string"
        },
        {
         "name": "stck_clpr",
         "rawType": "object",
         "type": "string"
        },
        {
         "name": "acml_vol",
         "rawType": "object",
         "type": "string"
        },
        {
         "name": "prdy_vrss_vol_rate",
         "rawType": "object",
         "type": "string"
        },
        {
         "name": "prdy_vrss",
         "rawType": "object",
         "type": "string"
        },
        {
         "name": "prdy_vrss_sign",
         "rawType": "object",
         "type": "string"
        },
        {
         "name": "prdy_ctrt",
         "rawType": "object",
         "type": "string"
        },
        {
         "name": "hts_frgn_ehrt",
         "rawType": "object",
         "type": "string"
        },
        {
         "name": "frgn_ntby_qty",
         "rawType": "object",
         "type": "string"
        },
        {
         "name": "flng_cls_code",
         "rawType": "object",
         "type": "string"
        },
        {
         "name": "acml_prtt_rate",
         "rawType": "object",
         "type": "string"
        },
        {
         "name": "PERIOD_CODE",
         "rawType": "object",
         "type": "string"
        },
        {
         "name": "STOCK_CODE",
         "rawType": "object",
         "type": "string"
        }
       ],
       "conversionMethod": "pd.DataFrame",
       "ref": "5eae3bc1-fbb9-457d-970b-26f54a38e11d",
       "rows": [
        [
         "0",
         "20250421",
         "6190",
         "6250",
         "6140",
         "6150",
         "48772",
         "39.90",
         "-30",
         "5",
         "-0.49",
         "3.18",
         "14805",
         "00",
         "1.00",
         "D",
         "000020"
        ],
        [
         "1",
         "20250418",
         "6120",
         "6200",
         "6050",
         "6180",
         "34863",
         "-8.13",
         "70",
         "2",
         "1.15",
         "3.12",
         "11497",
         "00",
         "0.00",
         "D",
         "000020"
        ],
        [
         "2",
         "20250417",
         "6030",
         "6120",
         "5950",
         "6110",
         "37949",
         "14.88",
         "80",
         "2",
         "1.33",
         "3.08",
         "8178",
         "00",
         "0.00",
         "D",
         "000020"
        ],
        [
         "3",
         "20250416",
         "6070",
         "6120",
         "6010",
         "6030",
         "33035",
         "4.54",
         "-30",
         "5",
         "-0.50",
         "3.05",
         "-3057",
         "00",
         "0.00",
         "D",
         "000020"
        ],
        [
         "4",
         "20250415",
         "6040",
         "6080",
         "6000",
         "6060",
         "31599",
         "45.83",
         "50",
         "2",
         "0.83",
         "3.06",
         "6858",
         "00",
         "0.00",
         "D",
         "000020"
        ]
       ],
       "shape": {
        "columns": 16,
        "rows": 5
       }
      },
      "text/html": [
       "<div>\n",
       "<style scoped>\n",
       "    .dataframe tbody tr th:only-of-type {\n",
       "        vertical-align: middle;\n",
       "    }\n",
       "\n",
       "    .dataframe tbody tr th {\n",
       "        vertical-align: top;\n",
       "    }\n",
       "\n",
       "    .dataframe thead th {\n",
       "        text-align: right;\n",
       "    }\n",
       "</style>\n",
       "<table border=\"1\" class=\"dataframe\">\n",
       "  <thead>\n",
       "    <tr style=\"text-align: right;\">\n",
       "      <th></th>\n",
       "      <th>stck_bsop_date</th>\n",
       "      <th>stck_oprc</th>\n",
       "      <th>stck_hgpr</th>\n",
       "      <th>stck_lwpr</th>\n",
       "      <th>stck_clpr</th>\n",
       "      <th>acml_vol</th>\n",
       "      <th>prdy_vrss_vol_rate</th>\n",
       "      <th>prdy_vrss</th>\n",
       "      <th>prdy_vrss_sign</th>\n",
       "      <th>prdy_ctrt</th>\n",
       "      <th>hts_frgn_ehrt</th>\n",
       "      <th>frgn_ntby_qty</th>\n",
       "      <th>flng_cls_code</th>\n",
       "      <th>acml_prtt_rate</th>\n",
       "      <th>PERIOD_CODE</th>\n",
       "      <th>STOCK_CODE</th>\n",
       "    </tr>\n",
       "  </thead>\n",
       "  <tbody>\n",
       "    <tr>\n",
       "      <th>0</th>\n",
       "      <td>20250421</td>\n",
       "      <td>6190</td>\n",
       "      <td>6250</td>\n",
       "      <td>6140</td>\n",
       "      <td>6150</td>\n",
       "      <td>48772</td>\n",
       "      <td>39.90</td>\n",
       "      <td>-30</td>\n",
       "      <td>5</td>\n",
       "      <td>-0.49</td>\n",
       "      <td>3.18</td>\n",
       "      <td>14805</td>\n",
       "      <td>00</td>\n",
       "      <td>1.00</td>\n",
       "      <td>D</td>\n",
       "      <td>000020</td>\n",
       "    </tr>\n",
       "    <tr>\n",
       "      <th>1</th>\n",
       "      <td>20250418</td>\n",
       "      <td>6120</td>\n",
       "      <td>6200</td>\n",
       "      <td>6050</td>\n",
       "      <td>6180</td>\n",
       "      <td>34863</td>\n",
       "      <td>-8.13</td>\n",
       "      <td>70</td>\n",
       "      <td>2</td>\n",
       "      <td>1.15</td>\n",
       "      <td>3.12</td>\n",
       "      <td>11497</td>\n",
       "      <td>00</td>\n",
       "      <td>0.00</td>\n",
       "      <td>D</td>\n",
       "      <td>000020</td>\n",
       "    </tr>\n",
       "    <tr>\n",
       "      <th>2</th>\n",
       "      <td>20250417</td>\n",
       "      <td>6030</td>\n",
       "      <td>6120</td>\n",
       "      <td>5950</td>\n",
       "      <td>6110</td>\n",
       "      <td>37949</td>\n",
       "      <td>14.88</td>\n",
       "      <td>80</td>\n",
       "      <td>2</td>\n",
       "      <td>1.33</td>\n",
       "      <td>3.08</td>\n",
       "      <td>8178</td>\n",
       "      <td>00</td>\n",
       "      <td>0.00</td>\n",
       "      <td>D</td>\n",
       "      <td>000020</td>\n",
       "    </tr>\n",
       "    <tr>\n",
       "      <th>3</th>\n",
       "      <td>20250416</td>\n",
       "      <td>6070</td>\n",
       "      <td>6120</td>\n",
       "      <td>6010</td>\n",
       "      <td>6030</td>\n",
       "      <td>33035</td>\n",
       "      <td>4.54</td>\n",
       "      <td>-30</td>\n",
       "      <td>5</td>\n",
       "      <td>-0.50</td>\n",
       "      <td>3.05</td>\n",
       "      <td>-3057</td>\n",
       "      <td>00</td>\n",
       "      <td>0.00</td>\n",
       "      <td>D</td>\n",
       "      <td>000020</td>\n",
       "    </tr>\n",
       "    <tr>\n",
       "      <th>4</th>\n",
       "      <td>20250415</td>\n",
       "      <td>6040</td>\n",
       "      <td>6080</td>\n",
       "      <td>6000</td>\n",
       "      <td>6060</td>\n",
       "      <td>31599</td>\n",
       "      <td>45.83</td>\n",
       "      <td>50</td>\n",
       "      <td>2</td>\n",
       "      <td>0.83</td>\n",
       "      <td>3.06</td>\n",
       "      <td>6858</td>\n",
       "      <td>00</td>\n",
       "      <td>0.00</td>\n",
       "      <td>D</td>\n",
       "      <td>000020</td>\n",
       "    </tr>\n",
       "  </tbody>\n",
       "</table>\n",
       "</div>"
      ],
      "text/plain": [
       "  stck_bsop_date stck_oprc stck_hgpr stck_lwpr stck_clpr acml_vol  \\\n",
       "0       20250421      6190      6250      6140      6150    48772   \n",
       "1       20250418      6120      6200      6050      6180    34863   \n",
       "2       20250417      6030      6120      5950      6110    37949   \n",
       "3       20250416      6070      6120      6010      6030    33035   \n",
       "4       20250415      6040      6080      6000      6060    31599   \n",
       "\n",
       "  prdy_vrss_vol_rate prdy_vrss prdy_vrss_sign prdy_ctrt hts_frgn_ehrt  \\\n",
       "0              39.90       -30              5     -0.49          3.18   \n",
       "1              -8.13        70              2      1.15          3.12   \n",
       "2              14.88        80              2      1.33          3.08   \n",
       "3               4.54       -30              5     -0.50          3.05   \n",
       "4              45.83        50              2      0.83          3.06   \n",
       "\n",
       "  frgn_ntby_qty flng_cls_code acml_prtt_rate PERIOD_CODE STOCK_CODE  \n",
       "0         14805            00           1.00           D     000020  \n",
       "1         11497            00           0.00           D     000020  \n",
       "2          8178            00           0.00           D     000020  \n",
       "3         -3057            00           0.00           D     000020  \n",
       "4          6858            00           0.00           D     000020  "
      ]
     },
     "execution_count": 5,
     "metadata": {},
     "output_type": "execute_result"
    }
   ],
   "source": [
    "dfstprc.head()"
   ]
  },
  {
   "cell_type": "code",
   "execution_count": 14,
   "id": "b6a71568",
   "metadata": {},
   "outputs": [],
   "source": [
    "dfhmm = dfstprc[(dfstprc['STOCK_CODE'] == '011200') & (dfstprc['PERIOD_CODE'] == 'W')].set_index('stck_bsop_date') #.acml_vol"
   ]
  },
  {
   "cell_type": "code",
   "execution_count": 15,
   "id": "67b5f316",
   "metadata": {},
   "outputs": [],
   "source": [
    "dfhmm.index = pd.to_datetime(dfhmm.index, format='%Y%m%d')"
   ]
  },
  {
   "cell_type": "code",
   "execution_count": 16,
   "id": "29c6d7a7",
   "metadata": {},
   "outputs": [],
   "source": [
    "dfhmm.sort_index(inplace=True)"
   ]
  },
  {
   "cell_type": "code",
   "execution_count": 17,
   "id": "e66a3df3",
   "metadata": {},
   "outputs": [],
   "source": [
    "dfhmm.drop(columns=['STOCK_CODE', 'PERIOD_CODE'], inplace=True)"
   ]
  },
  {
   "cell_type": "code",
   "execution_count": 18,
   "id": "aa1e1be9",
   "metadata": {},
   "outputs": [],
   "source": [
    "dfhmm = dfhmm.astype(float)"
   ]
  },
  {
   "cell_type": "code",
   "execution_count": 19,
   "id": "416f7282",
   "metadata": {},
   "outputs": [
    {
     "data": {
      "text/plain": [
       "<Axes: xlabel='stck_bsop_date'>"
      ]
     },
     "execution_count": 19,
     "metadata": {},
     "output_type": "execute_result"
    },
    {
     "data": {
      "image/png": "[encoded data removed]",
      "text/plain": [
       "<Figure size 640x480 with 1 Axes>"
      ]
     },
     "metadata": {},
     "output_type": "display_data"
    }
   ],
   "source": [
    "dfhmm['acml_vol'].plot()"
   ]
  },
  {
   "cell_type": "code",
   "execution_count": null,
   "id": "9d74101d",
   "metadata": {},
   "outputs": [],
   "source": []
  }
 ],
 "metadata": {
  "kernelspec": {
   "display_name": "iseeyou",
   "language": "python",
   "name": "python3"
  },
  "language_info": {
   "codemirror_mode": {
    "name": "ipython",
    "version": 3
   },
   "file_extension": ".py",
   "mimetype": "text/x-python",
   "name": "python",
   "nbconvert_exporter": "python",
   "pygments_lexer": "ipython3",
   "version": "3.11.2"
  }
 },
 "nbformat": 4,
 "nbformat_minor": 5
}
