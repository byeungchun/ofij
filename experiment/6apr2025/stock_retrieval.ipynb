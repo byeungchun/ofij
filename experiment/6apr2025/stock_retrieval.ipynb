{
 "cells": [
  {
   "cell_type": "code",
   "execution_count": 1,
   "metadata": {},
   "outputs": [],
   "source": [
    "%load_ext autoreload\n",
    "%autoreload 2"
   ]
  },
  {
   "cell_type": "code",
   "execution_count": null,
   "metadata": {},
   "outputs": [],
   "source": [
    "import os\n",
    "import sys\n",
    "\n",
    "from datetime import datetime, timedelta\n",
    "\n",
    "util_dir = os.path.join(os.getcwd(), r'../..', 'util')\n",
    "stckinfo_dir = os.path.join(os.getcwd(), r'../..', 'util', 'stocks_info')\n",
    "\n",
    "sys.path.append(util_dir)\n",
    "sys.path.append(stckinfo_dir)\n"
   ]
  },
  {
   "cell_type": "code",
   "execution_count": 3,
   "metadata": {},
   "outputs": [
    {
     "name": "stdout",
     "output_type": "stream",
     "text": [
      "Done\n"
     ]
    }
   ],
   "source": [
    "import kis_auth as ka\n",
    "import kis_domstk as kb\n",
    "\n",
    "from kis_kospi_code_mst import kospi_master_download, get_kospi_master_dataframe\n",
    "\n",
    "ka.auth()"
   ]
  },
  {
   "cell_type": "code",
   "execution_count": 18,
   "metadata": {},
   "outputs": [],
   "source": [
    "data_dir = os.path.join(os.path.expanduser('~'), 'data','ofij')\n",
    "if not os.path.exists(data_dir):\n",
    "    os.makedirs(data_dir)"
   ]
  },
  {
   "cell_type": "code",
   "execution_count": 13,
   "metadata": {},
   "outputs": [],
   "source": [
    "import time\n",
    "\n",
    "import pandas as pd\n",
    "from tqdm import tqdm"
   ]
  },
  {
   "cell_type": "code",
   "execution_count": 5,
   "metadata": {},
   "outputs": [],
   "source": [
    "dfkospicc = pd.read_csv('kospi_code.csv')"
   ]
  },
  {
   "cell_type": "code",
   "execution_count": 9,
   "metadata": {},
   "outputs": [],
   "source": [
    "stockcodes = dfkospicc[dfkospicc.그룹코드 == 'ST'].단축코드.tolist()"
   ]
  },
  {
   "cell_type": "code",
   "execution_count": 14,
   "metadata": {},
   "outputs": [
    {
     "name": "stderr",
     "output_type": "stream",
     "text": [
      "Fetching stock info: 100%|██████████| 932/932 [24:02<00:00,  1.55s/it]\n"
     ]
    }
   ],
   "source": [
    "stock_info_results = {}\n",
    "\n",
    "for stock_code in tqdm(stockcodes, desc=\"Fetching stock info\"):\n",
    "    stock_info = kb.get_search_stock_info(pdno=stock_code)\n",
    "    stock_info_results[stock_code] = stock_info\n",
    "    time.sleep(0.5)\n",
    "\n",
    "\n",
    "stock_info_df = pd.DataFrame.from_dict(stock_info_results, orient='index')\n",
    "\n",
    "# save to feather file\n",
    "stock_info_df.reset_index(inplace=True)\n",
    "stock_info_df.rename(columns={'index': '단축코드'}, inplace=True)\n",
    "stock_info_df.to_feather(os.path.join(data_dir, 'stock_info.feather'))"
   ]
  },
  {
   "cell_type": "code",
   "execution_count": null,
   "metadata": {},
   "outputs": [
    {
     "name": "stdout",
     "output_type": "stream",
     "text": [
      "Fetching stock prices for period D\n"
     ]
    },
    {
     "name": "stderr",
     "output_type": "stream",
     "text": [
      "Fetching stock prices for period D: 100%|██████████| 932/932 [15:54<00:00,  1.02s/it]\n",
      "Fetching stock prices for period D: 100%|██████████| 932/932 [15:54<00:00,  1.02s/it]\n"
     ]
    },
    {
     "name": "stdout",
     "output_type": "stream",
     "text": [
      "Fetching stock prices for period W\n"
     ]
    },
    {
     "name": "stderr",
     "output_type": "stream",
     "text": [
      "Fetching stock prices for period W: 100%|██████████| 932/932 [16:13<00:00,  1.04s/it]\n",
      "Fetching stock prices for period W: 100%|██████████| 932/932 [16:13<00:00,  1.04s/it]\n"
     ]
    },
    {
     "name": "stdout",
     "output_type": "stream",
     "text": [
      "Fetching stock prices for period M\n"
     ]
    },
    {
     "name": "stderr",
     "output_type": "stream",
     "text": [
      "Fetching stock prices for period M: 100%|██████████| 932/932 [16:23<00:00,  1.05s/it]\n",
      "\n"
     ]
    }
   ],
   "source": [
    "lst_stock_prices = []\n",
    "\n",
    "period_codes = ['D', 'W', 'M']\n",
    "for period_code in period_codes:\n",
    "    print(f\"Fetching stock prices for period {period_code}\")\n",
    "    for stock_code in tqdm(stockcodes, desc=f\"Fetching stock prices for period {period_code}\"):\n",
    "        stock_prices = kb.get_inquire_daily_price(itm_no = stock_code, period_code=period_code)\n",
    "        # add preiod code to stock_prices dataframe\n",
    "        stock_prices['PERIOD_CODE'] = period_code\n",
    "        # add stock_code to stock_prices dataframe if not exist\n",
    "        if 'STOCK_CODE' not in stock_prices.columns:\n",
    "            stock_prices['STOCK_CODE'] = stock_code\n",
    "        lst_stock_prices.append(stock_prices)\n",
    "\n",
    "# concatenate all stock prices dataframes\n",
    "stock_prices = pd.concat(lst_stock_prices, ignore_index=True)\n",
    "# save to feather file\n",
    "stock_prices.reset_index(inplace=True, drop=True)\n",
    "stock_prices.to_feather(os.path.join(data_dir, 'stock_prices.feather'))"
   ]
  },
  {
   "cell_type": "code",
   "execution_count": null,
   "metadata": {},
   "outputs": [],
   "source": []
  }
 ],
 "metadata": {
  "kernelspec": {
   "display_name": "iseeyou",
   "language": "python",
   "name": "python3"
  },
  "language_info": {
   "codemirror_mode": {
    "name": "ipython",
    "version": 3
   },
   "file_extension": ".py",
   "mimetype": "text/x-python",
   "name": "python",
   "nbconvert_exporter": "python",
   "pygments_lexer": "ipython3",
   "version": "3.11.2"
  }
 },
 "nbformat": 4,
 "nbformat_minor": 2
}
