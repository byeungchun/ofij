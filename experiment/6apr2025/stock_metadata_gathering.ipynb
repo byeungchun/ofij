{
 "cells": [
  {
   "cell_type": "code",
   "execution_count": 31,
   "id": "8462e850",
   "metadata": {},
   "outputs": [],
   "source": [
    "import os\n",
    "import re\n",
    "import pandas as pd\n",
    "import numpy as np\n",
    "from datetime import datetime"
   ]
  },
  {
   "cell_type": "code",
   "execution_count": 2,
   "id": "58907295",
   "metadata": {},
   "outputs": [],
   "source": [
    "data_dir = os.path.join(os.path.expanduser('~'), 'data','ofij')\n",
    "if not os.path.exists(data_dir):\n",
    "    os.makedirs(data_dir)\n",
    "\n",
    "# files\n",
    "kospicode_filename = 'kospi_code.csv'\n",
    "stinfo_filename = os.path.join(data_dir, 'stock_info.feather')\n",
    "stprc_filename = os.path.join(data_dir, 'stock_prices.feather')"
   ]
  },
  {
   "cell_type": "code",
   "execution_count": 34,
   "id": "7897516b",
   "metadata": {},
   "outputs": [],
   "source": [
    "dfstcode = pd.read_csv(kospicode_filename)\n",
    "dfstinfo = pd.read_feather(stinfo_filename)\n",
    "dfstprc = pd.read_feather(stprc_filename)"
   ]
  },
  {
   "cell_type": "code",
   "execution_count": 43,
   "id": "5b6fd2a8",
   "metadata": {},
   "outputs": [],
   "source": [
    "df = dfstinfo.merge(dfstcode, how='left', on='단축코드')\n",
    "\n",
    "dfmeta = pd.DataFrame({\n",
    "    '한글명': df['한글명'],  # Company Name\n",
    "    '표준코드': df['표준코드'],  # Standard Product Code\n",
    "    '단축코드': df['단축코드'],  # Short Stock Code\n",
    "    '상장일자': pd.to_datetime(df['상장일자'], format='%Y%m%d'),  # Listed Date\n",
    "    '시장구분': df['KOSPI'].apply(lambda x: 'KOSPI' if x == 'Y' else 'Other'),  # Market (KOSPI or Others)\n",
    "    '업종대분류': df['idx_bztp_lcls_cd_name'],  # Industry Size Category\n",
    "    '업종중분류': df['idx_bztp_mcls_cd_name'],  # Industry Medium Category\n",
    "    '표준산업분류': df['std_idst_clsf_cd_name'],  # Industry Detailed Category\n",
    "    '액면가': df['액면가'],  # Face value\n",
    "    '시가총액(억 원)': df['시가총액'],  # Market Cap in Hundred-Million KRW\n",
    "    '매출액(억 원)': df['매출액'],  # Sales\n",
    "    '영업이익(억 원)': df['영업이익'],  # Operating Profit\n",
    "    '당기순이익(억 원)': df['당기순이익'],  # Net Profit\n",
    "    'ROE(%)': df['ROE'],  # Return on Equity\n",
    "    '전일종가(원)': df['기준가'],  # Previous Closing Price \n",
    "    '신용가능': df['신용가능'].apply(lambda x: True if x == 'Y' else False),  # Credit investment possibility\n",
    "    '증거금비율(%)': df['증거금비율'],  # Margin Rate Requirement\n",
    "    'KRX바이오': df['KRX바이오'].apply(lambda x: True if x == 'Y' else False),  # Part of KRX Bio\n",
    "    '관리종목': df['관리종목'].apply(lambda x: True if x == 'Y' else False),  # Admin-Managed Issue \n",
    "    '거래정지': df['거래정지'].apply(lambda x: True if x == 'Y' else False),  # Trading Suspension\n",
    "    '불성실공시': df['불성실공시'].apply(lambda x: True if x == 'Y' else False),  # Unfaithful Disclosure\n",
    "    '이상급등': df['이상급등'].apply(lambda x: True if x == 'Y' else False),  # Sudden Price Surge\n",
    "}).reset_index(drop=True)\n",
    "\n"
   ]
  },
  {
   "cell_type": "code",
   "execution_count": 44,
   "id": "1c06a09e",
   "metadata": {},
   "outputs": [
    {
     "data": {
      "application/vnd.microsoft.datawrangler.viewer.v0+json": {
       "columns": [
        {
         "name": "index",
         "rawType": "int64",
         "type": "integer"
        },
        {
         "name": "한글명",
         "rawType": "object",
         "type": "string"
        },
        {
         "name": "표준코드",
         "rawType": "object",
         "type": "string"
        },
        {
         "name": "단축코드",
         "rawType": "object",
         "type": "string"
        },
        {
         "name": "상장일자",
         "rawType": "datetime64[ns]",
         "type": "datetime"
        },
        {
         "name": "시장구분",
         "rawType": "object",
         "type": "string"
        },
        {
         "name": "업종대분류",
         "rawType": "object",
         "type": "string"
        },
        {
         "name": "업종중분류",
         "rawType": "object",
         "type": "string"
        },
        {
         "name": "표준산업분류",
         "rawType": "object",
         "type": "string"
        },
        {
         "name": "액면가",
         "rawType": "int64",
         "type": "integer"
        },
        {
         "name": "시가총액(억 원)",
         "rawType": "int64",
         "type": "integer"
        },
        {
         "name": "매출액(억 원)",
         "rawType": "int64",
         "type": "integer"
        },
        {
         "name": "영업이익(억 원)",
         "rawType": "int64",
         "type": "integer"
        },
        {
         "name": "당기순이익(억 원)",
         "rawType": "int64",
         "type": "integer"
        },
        {
         "name": "ROE(%)",
         "rawType": "float64",
         "type": "float"
        },
        {
         "name": "전일종가(원)",
         "rawType": "int64",
         "type": "integer"
        },
        {
         "name": "신용가능",
         "rawType": "bool",
         "type": "boolean"
        },
        {
         "name": "증거금비율(%)",
         "rawType": "int64",
         "type": "integer"
        },
        {
         "name": "KRX바이오",
         "rawType": "bool",
         "type": "boolean"
        },
        {
         "name": "관리종목",
         "rawType": "bool",
         "type": "boolean"
        },
        {
         "name": "거래정지",
         "rawType": "bool",
         "type": "boolean"
        },
        {
         "name": "불성실공시",
         "rawType": "bool",
         "type": "boolean"
        },
        {
         "name": "이상급등",
         "rawType": "bool",
         "type": "boolean"
        }
       ],
       "conversionMethod": "pd.DataFrame",
       "ref": "f31e4e50-12d2-4427-b8a3-c26d268ed6a5",
       "rows": [
        [
         "0",
         "동화약품",
         "KR7000020008",
         "000020",
         "1976-03-24 00:00:00",
         "KOSPI",
         "시가총액규모중",
         "의약품",
         "의약품 제조업",
         "1000",
         "1678",
         "4649",
         "134",
         "21",
         "1.49",
         "6010",
         "True",
         "60",
         "True",
         "False",
         "False",
         "False",
         "False"
        ],
        [
         "1",
         "KR모터스",
         "KR7000040006",
         "000040",
         "1976-05-25 00:00:00",
         "KOSPI",
         "시가총액규모소",
         "운수장비",
         "그외 기타 운송장비 제조업",
         "500",
         "217",
         "160",
         "-49",
         "-142",
         "-42.76",
         "362",
         "False",
         "100",
         "False",
         "False",
         "False",
         "False",
         "False"
        ],
        [
         "2",
         "경방",
         "KR7000050005",
         "000050",
         "1956-03-03 00:00:00",
         "KOSPI",
         "시가총액규모중",
         "섬유,의복",
         "종합 소매업",
         "500",
         "1727",
         "3973",
         "334",
         "236",
         "3.15",
         "6300",
         "True",
         "60",
         "False",
         "False",
         "False",
         "False",
         "False"
        ],
        [
         "3",
         "삼양홀딩스",
         "KR7000070003",
         "000070",
         "1968-12-27 00:00:00",
         "KOSPI",
         "시가총액규모중",
         "음식료품",
         "기타 금융업",
         "5000",
         "4830",
         "35533",
         "1275",
         "895",
         "1.38",
         "56400",
         "True",
         "60",
         "False",
         "False",
         "False",
         "False",
         "False"
        ],
        [
         "4",
         "삼양홀딩스우",
         "KR7000071001",
         "000075",
         "1992-02-21 00:00:00",
         "Other",
         "시가총액규모중",
         "음식료품",
         "기타 금융업",
         "5000",
         "171",
         "0",
         "0",
         "0",
         "0.0",
         "56300",
         "False",
         "100",
         "False",
         "False",
         "False",
         "False",
         "False"
        ]
       ],
       "shape": {
        "columns": 22,
        "rows": 5
       }
      },
      "text/html": [
       "<div>\n",
       "<style scoped>\n",
       "    .dataframe tbody tr th:only-of-type {\n",
       "        vertical-align: middle;\n",
       "    }\n",
       "\n",
       "    .dataframe tbody tr th {\n",
       "        vertical-align: top;\n",
       "    }\n",
       "\n",
       "    .dataframe thead th {\n",
       "        text-align: right;\n",
       "    }\n",
       "</style>\n",
       "<table border=\"1\" class=\"dataframe\">\n",
       "  <thead>\n",
       "    <tr style=\"text-align: right;\">\n",
       "      <th></th>\n",
       "      <th>한글명</th>\n",
       "      <th>표준코드</th>\n",
       "      <th>단축코드</th>\n",
       "      <th>상장일자</th>\n",
       "      <th>시장구분</th>\n",
       "      <th>업종대분류</th>\n",
       "      <th>업종중분류</th>\n",
       "      <th>표준산업분류</th>\n",
       "      <th>액면가</th>\n",
       "      <th>시가총액(억 원)</th>\n",
       "      <th>...</th>\n",
       "      <th>당기순이익(억 원)</th>\n",
       "      <th>ROE(%)</th>\n",
       "      <th>전일종가(원)</th>\n",
       "      <th>신용가능</th>\n",
       "      <th>증거금비율(%)</th>\n",
       "      <th>KRX바이오</th>\n",
       "      <th>관리종목</th>\n",
       "      <th>거래정지</th>\n",
       "      <th>불성실공시</th>\n",
       "      <th>이상급등</th>\n",
       "    </tr>\n",
       "  </thead>\n",
       "  <tbody>\n",
       "    <tr>\n",
       "      <th>0</th>\n",
       "      <td>동화약품</td>\n",
       "      <td>KR7000020008</td>\n",
       "      <td>000020</td>\n",
       "      <td>1976-03-24</td>\n",
       "      <td>KOSPI</td>\n",
       "      <td>시가총액규모중</td>\n",
       "      <td>의약품</td>\n",
       "      <td>의약품 제조업</td>\n",
       "      <td>1000</td>\n",
       "      <td>1678</td>\n",
       "      <td>...</td>\n",
       "      <td>21</td>\n",
       "      <td>1.49</td>\n",
       "      <td>6010</td>\n",
       "      <td>True</td>\n",
       "      <td>60</td>\n",
       "      <td>True</td>\n",
       "      <td>False</td>\n",
       "      <td>False</td>\n",
       "      <td>False</td>\n",
       "      <td>False</td>\n",
       "    </tr>\n",
       "    <tr>\n",
       "      <th>1</th>\n",
       "      <td>KR모터스</td>\n",
       "      <td>KR7000040006</td>\n",
       "      <td>000040</td>\n",
       "      <td>1976-05-25</td>\n",
       "      <td>KOSPI</td>\n",
       "      <td>시가총액규모소</td>\n",
       "      <td>운수장비</td>\n",
       "      <td>그외 기타 운송장비 제조업</td>\n",
       "      <td>500</td>\n",
       "      <td>217</td>\n",
       "      <td>...</td>\n",
       "      <td>-142</td>\n",
       "      <td>-42.76</td>\n",
       "      <td>362</td>\n",
       "      <td>False</td>\n",
       "      <td>100</td>\n",
       "      <td>False</td>\n",
       "      <td>False</td>\n",
       "      <td>False</td>\n",
       "      <td>False</td>\n",
       "      <td>False</td>\n",
       "    </tr>\n",
       "    <tr>\n",
       "      <th>2</th>\n",
       "      <td>경방</td>\n",
       "      <td>KR7000050005</td>\n",
       "      <td>000050</td>\n",
       "      <td>1956-03-03</td>\n",
       "      <td>KOSPI</td>\n",
       "      <td>시가총액규모중</td>\n",
       "      <td>섬유,의복</td>\n",
       "      <td>종합 소매업</td>\n",
       "      <td>500</td>\n",
       "      <td>1727</td>\n",
       "      <td>...</td>\n",
       "      <td>236</td>\n",
       "      <td>3.15</td>\n",
       "      <td>6300</td>\n",
       "      <td>True</td>\n",
       "      <td>60</td>\n",
       "      <td>False</td>\n",
       "      <td>False</td>\n",
       "      <td>False</td>\n",
       "      <td>False</td>\n",
       "      <td>False</td>\n",
       "    </tr>\n",
       "    <tr>\n",
       "      <th>3</th>\n",
       "      <td>삼양홀딩스</td>\n",
       "      <td>KR7000070003</td>\n",
       "      <td>000070</td>\n",
       "      <td>1968-12-27</td>\n",
       "      <td>KOSPI</td>\n",
       "      <td>시가총액규모중</td>\n",
       "      <td>음식료품</td>\n",
       "      <td>기타 금융업</td>\n",
       "      <td>5000</td>\n",
       "      <td>4830</td>\n",
       "      <td>...</td>\n",
       "      <td>895</td>\n",
       "      <td>1.38</td>\n",
       "      <td>56400</td>\n",
       "      <td>True</td>\n",
       "      <td>60</td>\n",
       "      <td>False</td>\n",
       "      <td>False</td>\n",
       "      <td>False</td>\n",
       "      <td>False</td>\n",
       "      <td>False</td>\n",
       "    </tr>\n",
       "    <tr>\n",
       "      <th>4</th>\n",
       "      <td>삼양홀딩스우</td>\n",
       "      <td>KR7000071001</td>\n",
       "      <td>000075</td>\n",
       "      <td>1992-02-21</td>\n",
       "      <td>Other</td>\n",
       "      <td>시가총액규모중</td>\n",
       "      <td>음식료품</td>\n",
       "      <td>기타 금융업</td>\n",
       "      <td>5000</td>\n",
       "      <td>171</td>\n",
       "      <td>...</td>\n",
       "      <td>0</td>\n",
       "      <td>0.00</td>\n",
       "      <td>56300</td>\n",
       "      <td>False</td>\n",
       "      <td>100</td>\n",
       "      <td>False</td>\n",
       "      <td>False</td>\n",
       "      <td>False</td>\n",
       "      <td>False</td>\n",
       "      <td>False</td>\n",
       "    </tr>\n",
       "  </tbody>\n",
       "</table>\n",
       "<p>5 rows × 22 columns</p>\n",
       "</div>"
      ],
      "text/plain": [
       "      한글명          표준코드    단축코드       상장일자   시장구분    업종대분류  업종중분류  \\\n",
       "0    동화약품  KR7000020008  000020 1976-03-24  KOSPI  시가총액규모중    의약품   \n",
       "1   KR모터스  KR7000040006  000040 1976-05-25  KOSPI  시가총액규모소   운수장비   \n",
       "2      경방  KR7000050005  000050 1956-03-03  KOSPI  시가총액규모중  섬유,의복   \n",
       "3   삼양홀딩스  KR7000070003  000070 1968-12-27  KOSPI  시가총액규모중   음식료품   \n",
       "4  삼양홀딩스우  KR7000071001  000075 1992-02-21  Other  시가총액규모중   음식료품   \n",
       "\n",
       "           표준산업분류   액면가  시가총액(억 원)  ...  당기순이익(억 원)  ROE(%)  전일종가(원)   신용가능  \\\n",
       "0         의약품 제조업  1000       1678  ...          21    1.49     6010   True   \n",
       "1  그외 기타 운송장비 제조업   500        217  ...        -142  -42.76      362  False   \n",
       "2          종합 소매업   500       1727  ...         236    3.15     6300   True   \n",
       "3          기타 금융업  5000       4830  ...         895    1.38    56400   True   \n",
       "4          기타 금융업  5000        171  ...           0    0.00    56300  False   \n",
       "\n",
       "   증거금비율(%)  KRX바이오   관리종목   거래정지  불성실공시   이상급등  \n",
       "0        60    True  False  False  False  False  \n",
       "1       100   False  False  False  False  False  \n",
       "2        60   False  False  False  False  False  \n",
       "3        60   False  False  False  False  False  \n",
       "4       100   False  False  False  False  False  \n",
       "\n",
       "[5 rows x 22 columns]"
      ]
     },
     "execution_count": 44,
     "metadata": {},
     "output_type": "execute_result"
    }
   ],
   "source": [
    "dfmeta.head()"
   ]
  },
  {
   "cell_type": "code",
   "execution_count": 48,
   "id": "5d39dcf5",
   "metadata": {},
   "outputs": [
    {
     "data": {
      "text/plain": [
       "[{'한글명': '동화약품',\n",
       "  '표준코드': 'KR7000020008',\n",
       "  '단축코드': '000020',\n",
       "  '상장일자': Timestamp('1976-03-24 00:00:00'),\n",
       "  '시장구분': 'KOSPI',\n",
       "  '업종대분류': '시가총액규모중',\n",
       "  '업종중분류': '의약품',\n",
       "  '표준산업분류': '의약품 제조업',\n",
       "  '액면가': 1000,\n",
       "  '시가총액(억 원)': 1678,\n",
       "  '매출액(억 원)': 4649,\n",
       "  '영업이익(억 원)': 134,\n",
       "  '당기순이익(억 원)': 21,\n",
       "  'ROE(%)': 1.49,\n",
       "  '전일종가(원)': 6010,\n",
       "  '신용가능': True,\n",
       "  '증거금비율(%)': 60,\n",
       "  'KRX바이오': True,\n",
       "  '관리종목': False,\n",
       "  '거래정지': False,\n",
       "  '불성실공시': False,\n",
       "  '이상급등': False}]"
      ]
     },
     "execution_count": 48,
     "metadata": {},
     "output_type": "execute_result"
    }
   ],
   "source": [
    "dfmeta.head(1).to_dict(orient='records')"
   ]
  },
  {
   "cell_type": "code",
   "execution_count": 49,
   "id": "9a23e532",
   "metadata": {},
   "outputs": [],
   "source": [
    "# save to feather\n",
    "dfmeta.to_feather(os.path.join(data_dir, 'stock_meta.feather'))"
   ]
  },
  {
   "cell_type": "code",
   "execution_count": null,
   "id": "8cb6acf0",
   "metadata": {},
   "outputs": [],
   "source": []
  }
 ],
 "metadata": {
  "kernelspec": {
   "display_name": "iseeyou",
   "language": "python",
   "name": "python3"
  },
  "language_info": {
   "codemirror_mode": {
    "name": "ipython",
    "version": 3
   },
   "file_extension": ".py",
   "mimetype": "text/x-python",
   "name": "python",
   "nbconvert_exporter": "python",
   "pygments_lexer": "ipython3",
   "version": "3.11.2"
  }
 },
 "nbformat": 4,
 "nbformat_minor": 5
}
