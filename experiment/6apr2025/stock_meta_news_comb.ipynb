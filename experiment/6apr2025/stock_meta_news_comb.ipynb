{
 "cells": [
  {
   "cell_type": "code",
   "execution_count": 3,
   "id": "ffa29f38",
   "metadata": {},
   "outputs": [],
   "source": [
    "import os\n",
    "import pandas as pd\n",
    "\n",
    "from glob import glob"
   ]
  },
  {
   "cell_type": "code",
   "execution_count": 2,
   "id": "a00e939f",
   "metadata": {},
   "outputs": [],
   "source": [
    "base_dir = os.path.join(os.path.expanduser(\"~\"), \"data\", \"ofij\")\n",
    "if not os.path.exists(base_dir):\n",
    "    os.makedirs(base_dir)\n"
   ]
  },
  {
   "cell_type": "code",
   "execution_count": 8,
   "id": "d8f2a421",
   "metadata": {},
   "outputs": [],
   "source": [
    "stmeta_file = os.path.join(base_dir,'stock_meta.feather')\n",
    "news_files = glob(os.path.join(base_dir, 'news*.feather'))"
   ]
  },
  {
   "cell_type": "code",
   "execution_count": 10,
   "id": "cff8b5d6",
   "metadata": {},
   "outputs": [],
   "source": [
    "dfmeta = pd.read_feather(stmeta_file)"
   ]
  },
  {
   "cell_type": "code",
   "execution_count": 11,
   "id": "76e21cf5",
   "metadata": {},
   "outputs": [],
   "source": [
    "dfnews = pd.read_feather(news_files[0])"
   ]
  },
  {
   "cell_type": "code",
   "execution_count": 12,
   "id": "772a68ca",
   "metadata": {},
   "outputs": [
    {
     "data": {
      "application/vnd.microsoft.datawrangler.viewer.v0+json": {
       "columns": [
        {
         "name": "index",
         "rawType": "int64",
         "type": "integer"
        },
        {
         "name": "cntt_usiq_srno",
         "rawType": "object",
         "type": "string"
        },
        {
         "name": "news_ofer_entp_code",
         "rawType": "object",
         "type": "string"
        },
        {
         "name": "data_dt",
         "rawType": "object",
         "type": "string"
        },
        {
         "name": "data_tm",
         "rawType": "object",
         "type": "string"
        },
        {
         "name": "hts_pbnt_titl_cntt",
         "rawType": "object",
         "type": "string"
        },
        {
         "name": "news_lrdv_code",
         "rawType": "object",
         "type": "string"
        },
        {
         "name": "dorg",
         "rawType": "object",
         "type": "string"
        },
        {
         "name": "iscd1",
         "rawType": "object",
         "type": "string"
        },
        {
         "name": "kor_isnm1",
         "rawType": "object",
         "type": "string"
        }
       ],
       "conversionMethod": "pd.DataFrame",
       "ref": "43b12154-d3c7-46a9-9b43-bbaf57a7ad9b",
       "rows": [
        [
         "0",
         "2024032100100098155",
         "U",
         "20240321",
         "001000",
         "[기자의 눈] 벚꽃없는 벚꽃축제",
         "39",
         "서울경제",
         "",
         " "
        ],
        [
         "1",
         "2024032100090896253",
         "2",
         "20240321",
         "000908",
         "외신들,\"엔비디아 젠슨황이 AI계 스티브 잡스\" 평가",
         "04",
         "한국경제신문",
         "",
         " "
        ],
        [
         "2",
         "2024032100053623852",
         "2",
         "20240321",
         "000536",
         "베트남 GDP 3% 횡령한 부동산 재벌…사형 구형",
         "09",
         "한국경제신문",
         "",
         " "
        ],
        [
         "3",
         "2024032100050072449",
         "U",
         "20240321",
         "000500",
         "[사설] “정규직 과보호에 중장년 고용 불안”···노동 유연화 서둘러야",
         "39",
         "서울경제",
         "",
         " "
        ],
        [
         "4",
         "2024032100050059151",
         "U",
         "20240321",
         "000500",
         "[사설] 의대별 정원 확정, 특위에서 필수?지역 의료 정상화에 머리 맞대라",
         "39",
         "서울경제",
         "",
         " "
        ]
       ],
       "shape": {
        "columns": 9,
        "rows": 5
       }
      },
      "text/html": [
       "<div>\n",
       "<style scoped>\n",
       "    .dataframe tbody tr th:only-of-type {\n",
       "        vertical-align: middle;\n",
       "    }\n",
       "\n",
       "    .dataframe tbody tr th {\n",
       "        vertical-align: top;\n",
       "    }\n",
       "\n",
       "    .dataframe thead th {\n",
       "        text-align: right;\n",
       "    }\n",
       "</style>\n",
       "<table border=\"1\" class=\"dataframe\">\n",
       "  <thead>\n",
       "    <tr style=\"text-align: right;\">\n",
       "      <th></th>\n",
       "      <th>cntt_usiq_srno</th>\n",
       "      <th>news_ofer_entp_code</th>\n",
       "      <th>data_dt</th>\n",
       "      <th>data_tm</th>\n",
       "      <th>hts_pbnt_titl_cntt</th>\n",
       "      <th>news_lrdv_code</th>\n",
       "      <th>dorg</th>\n",
       "      <th>iscd1</th>\n",
       "      <th>kor_isnm1</th>\n",
       "    </tr>\n",
       "  </thead>\n",
       "  <tbody>\n",
       "    <tr>\n",
       "      <th>0</th>\n",
       "      <td>2024032100100098155</td>\n",
       "      <td>U</td>\n",
       "      <td>20240321</td>\n",
       "      <td>001000</td>\n",
       "      <td>[기자의 눈] 벚꽃없는 벚꽃축제</td>\n",
       "      <td>39</td>\n",
       "      <td>서울경제</td>\n",
       "      <td></td>\n",
       "      <td></td>\n",
       "    </tr>\n",
       "    <tr>\n",
       "      <th>1</th>\n",
       "      <td>2024032100090896253</td>\n",
       "      <td>2</td>\n",
       "      <td>20240321</td>\n",
       "      <td>000908</td>\n",
       "      <td>외신들,\"엔비디아 젠슨황이 AI계 스티브 잡스\" 평가</td>\n",
       "      <td>04</td>\n",
       "      <td>한국경제신문</td>\n",
       "      <td></td>\n",
       "      <td></td>\n",
       "    </tr>\n",
       "    <tr>\n",
       "      <th>2</th>\n",
       "      <td>2024032100053623852</td>\n",
       "      <td>2</td>\n",
       "      <td>20240321</td>\n",
       "      <td>000536</td>\n",
       "      <td>베트남 GDP 3% 횡령한 부동산 재벌…사형 구형</td>\n",
       "      <td>09</td>\n",
       "      <td>한국경제신문</td>\n",
       "      <td></td>\n",
       "      <td></td>\n",
       "    </tr>\n",
       "    <tr>\n",
       "      <th>3</th>\n",
       "      <td>2024032100050072449</td>\n",
       "      <td>U</td>\n",
       "      <td>20240321</td>\n",
       "      <td>000500</td>\n",
       "      <td>[사설] “정규직 과보호에 중장년 고용 불안”···노동 유연화 서둘러야</td>\n",
       "      <td>39</td>\n",
       "      <td>서울경제</td>\n",
       "      <td></td>\n",
       "      <td></td>\n",
       "    </tr>\n",
       "    <tr>\n",
       "      <th>4</th>\n",
       "      <td>2024032100050059151</td>\n",
       "      <td>U</td>\n",
       "      <td>20240321</td>\n",
       "      <td>000500</td>\n",
       "      <td>[사설] 의대별 정원 확정, 특위에서 필수?지역 의료 정상화에 머리 맞대라</td>\n",
       "      <td>39</td>\n",
       "      <td>서울경제</td>\n",
       "      <td></td>\n",
       "      <td></td>\n",
       "    </tr>\n",
       "  </tbody>\n",
       "</table>\n",
       "</div>"
      ],
      "text/plain": [
       "        cntt_usiq_srno news_ofer_entp_code   data_dt data_tm  \\\n",
       "0  2024032100100098155                   U  20240321  001000   \n",
       "1  2024032100090896253                   2  20240321  000908   \n",
       "2  2024032100053623852                   2  20240321  000536   \n",
       "3  2024032100050072449                   U  20240321  000500   \n",
       "4  2024032100050059151                   U  20240321  000500   \n",
       "\n",
       "                          hts_pbnt_titl_cntt news_lrdv_code    dorg iscd1  \\\n",
       "0                          [기자의 눈] 벚꽃없는 벚꽃축제             39    서울경제         \n",
       "1              외신들,\"엔비디아 젠슨황이 AI계 스티브 잡스\" 평가             04  한국경제신문         \n",
       "2                베트남 GDP 3% 횡령한 부동산 재벌…사형 구형             09  한국경제신문         \n",
       "3    [사설] “정규직 과보호에 중장년 고용 불안”···노동 유연화 서둘러야             39    서울경제         \n",
       "4  [사설] 의대별 정원 확정, 특위에서 필수?지역 의료 정상화에 머리 맞대라             39    서울경제         \n",
       "\n",
       "  kor_isnm1  \n",
       "0            \n",
       "1            \n",
       "2            \n",
       "3            \n",
       "4            "
      ]
     },
     "execution_count": 12,
     "metadata": {},
     "output_type": "execute_result"
    }
   ],
   "source": [
    "dfnews.head()"
   ]
  },
  {
   "cell_type": "code",
   "execution_count": null,
   "id": "1c404959",
   "metadata": {},
   "outputs": [],
   "source": []
  }
 ],
 "metadata": {
  "kernelspec": {
   "display_name": "iseeyou",
   "language": "python",
   "name": "python3"
  },
  "language_info": {
   "codemirror_mode": {
    "name": "ipython",
    "version": 3
   },
   "file_extension": ".py",
   "mimetype": "text/x-python",
   "name": "python",
   "nbconvert_exporter": "python",
   "pygments_lexer": "ipython3",
   "version": "3.11.2"
  }
 },
 "nbformat": 4,
 "nbformat_minor": 5
}
