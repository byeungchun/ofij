{
 "cells": [
  {
   "cell_type": "code",
   "execution_count": 4,
   "id": "ffa29f38",
   "metadata": {},
   "outputs": [],
   "source": [
    "import os\n",
    "import json\n",
    "import pandas as pd\n",
    "\n",
    "from glob import glob"
   ]
  },
  {
   "cell_type": "code",
   "execution_count": 5,
   "id": "a00e939f",
   "metadata": {},
   "outputs": [],
   "source": [
    "base_dir = os.path.join(os.path.expanduser(\"~\"), \"data\", \"ofij\")\n",
    "if not os.path.exists(base_dir):\n",
    "    os.makedirs(base_dir)\n"
   ]
  },
  {
   "cell_type": "code",
   "execution_count": 9,
   "id": "d8f2a421",
   "metadata": {},
   "outputs": [],
   "source": [
    "\n",
    "news_files = glob(os.path.join(base_dir, 'news*.feather'))\n",
    "newsembed_file = os.path.join(base_dir, 'batch_embedding_output.jsonl')\n",
    "stmeta_file = os.path.join(base_dir,'stock_meta.feather')\n",
    "stkmeta_file = os.path.join(base_dir, 'stock_meta_response.jsonl')"
   ]
  },
  {
   "cell_type": "code",
   "execution_count": 35,
   "id": "13034e6e",
   "metadata": {},
   "outputs": [],
   "source": [
    "# load jsonl file \n",
    "with open(newsembed_file, 'r') as f:\n",
    "    newsembed = [json.loads(line) for line in f]\n",
    "\n",
    "# extract custom_id and embedding from newsembed\n",
    "dfemb = []\n",
    "for newsrec in newsembed:\n",
    "    custom_id = newsrec['custom_id']\n",
    "    embedding = newsrec['response']['body']['data'][0]['embedding']\n",
    "    dfemb.append((custom_id, embedding))\n",
    "dfemb = pd.DataFrame(dfemb, columns=['custom_id', 'embedding'])\n",
    "\n",
    "# remove newsembed object from memory\n",
    "del newsembed\n"
   ]
  },
  {
   "cell_type": "code",
   "execution_count": 20,
   "id": "20515f14",
   "metadata": {},
   "outputs": [],
   "source": [
    "dfmeta = pd.read_feather(stmeta_file).reset_index()\n",
    "# convert index column to string\n",
    "dfmeta['index'] = dfmeta['index'].astype(str)"
   ]
  },
  {
   "cell_type": "code",
   "execution_count": 14,
   "id": "3da793de",
   "metadata": {},
   "outputs": [],
   "source": [
    "# load stkmeta_file jsonl file\n",
    "with open(stkmeta_file, 'r') as f:\n",
    "    stkmeta = [json.loads(line) for line in f]\n",
    "dfstsent = [(res['custom_id'], res['response']['body']['choices'][0]['message']['content'] ) for res in stkmeta]\n",
    "dfstsent = pd.DataFrame(dfstsent, columns=['index', 'stksent'])\n"
   ]
  },
  {
   "cell_type": "code",
   "execution_count": 22,
   "id": "4196b48a",
   "metadata": {},
   "outputs": [],
   "source": [
    "dfmeta = dfmeta.merge(dfstsent, how='left', on='index')"
   ]
  },
  {
   "cell_type": "code",
   "execution_count": 36,
   "id": "76e21cf5",
   "metadata": {},
   "outputs": [],
   "source": [
    "dfnews = pd.read_feather(news_files[0])"
   ]
  },
  {
   "cell_type": "code",
   "execution_count": 37,
   "id": "df1dafe6",
   "metadata": {},
   "outputs": [],
   "source": [
    "dfnews = dfnews.drop_duplicates().reset_index(drop=False)"
   ]
  },
  {
   "cell_type": "code",
   "execution_count": 38,
   "id": "365a1a46",
   "metadata": {},
   "outputs": [
    {
     "data": {
      "text/html": [
       "<div>\n",
       "<style scoped>\n",
       "    .dataframe tbody tr th:only-of-type {\n",
       "        vertical-align: middle;\n",
       "    }\n",
       "\n",
       "    .dataframe tbody tr th {\n",
       "        vertical-align: top;\n",
       "    }\n",
       "\n",
       "    .dataframe thead th {\n",
       "        text-align: right;\n",
       "    }\n",
       "</style>\n",
       "<table border=\"1\" class=\"dataframe\">\n",
       "  <thead>\n",
       "    <tr style=\"text-align: right;\">\n",
       "      <th></th>\n",
       "      <th>index</th>\n",
       "      <th>cntt_usiq_srno</th>\n",
       "      <th>news_ofer_entp_code</th>\n",
       "      <th>data_dt</th>\n",
       "      <th>data_tm</th>\n",
       "      <th>hts_pbnt_titl_cntt</th>\n",
       "      <th>news_lrdv_code</th>\n",
       "      <th>dorg</th>\n",
       "      <th>iscd1</th>\n",
       "      <th>kor_isnm1</th>\n",
       "    </tr>\n",
       "  </thead>\n",
       "  <tbody>\n",
       "    <tr>\n",
       "      <th>0</th>\n",
       "      <td>0</td>\n",
       "      <td>2024032100100098155</td>\n",
       "      <td>U</td>\n",
       "      <td>20240321</td>\n",
       "      <td>001000</td>\n",
       "      <td>[기자의 눈] 벚꽃없는 벚꽃축제</td>\n",
       "      <td>39</td>\n",
       "      <td>서울경제</td>\n",
       "      <td></td>\n",
       "      <td></td>\n",
       "    </tr>\n",
       "    <tr>\n",
       "      <th>1</th>\n",
       "      <td>1</td>\n",
       "      <td>2024032100090896253</td>\n",
       "      <td>2</td>\n",
       "      <td>20240321</td>\n",
       "      <td>000908</td>\n",
       "      <td>외신들,\"엔비디아 젠슨황이 AI계 스티브 잡스\" 평가</td>\n",
       "      <td>04</td>\n",
       "      <td>한국경제신문</td>\n",
       "      <td></td>\n",
       "      <td></td>\n",
       "    </tr>\n",
       "    <tr>\n",
       "      <th>2</th>\n",
       "      <td>2</td>\n",
       "      <td>2024032100053623852</td>\n",
       "      <td>2</td>\n",
       "      <td>20240321</td>\n",
       "      <td>000536</td>\n",
       "      <td>베트남 GDP 3% 횡령한 부동산 재벌…사형 구형</td>\n",
       "      <td>09</td>\n",
       "      <td>한국경제신문</td>\n",
       "      <td></td>\n",
       "      <td></td>\n",
       "    </tr>\n",
       "    <tr>\n",
       "      <th>3</th>\n",
       "      <td>3</td>\n",
       "      <td>2024032100050072449</td>\n",
       "      <td>U</td>\n",
       "      <td>20240321</td>\n",
       "      <td>000500</td>\n",
       "      <td>[사설] “정규직 과보호에 중장년 고용 불안”···노동 유연화 서둘러야</td>\n",
       "      <td>39</td>\n",
       "      <td>서울경제</td>\n",
       "      <td></td>\n",
       "      <td></td>\n",
       "    </tr>\n",
       "    <tr>\n",
       "      <th>4</th>\n",
       "      <td>4</td>\n",
       "      <td>2024032100050059151</td>\n",
       "      <td>U</td>\n",
       "      <td>20240321</td>\n",
       "      <td>000500</td>\n",
       "      <td>[사설] 의대별 정원 확정, 특위에서 필수?지역 의료 정상화에 머리 맞대라</td>\n",
       "      <td>39</td>\n",
       "      <td>서울경제</td>\n",
       "      <td></td>\n",
       "      <td></td>\n",
       "    </tr>\n",
       "  </tbody>\n",
       "</table>\n",
       "</div>"
      ],
      "text/plain": [
       "  index       cntt_usiq_srno news_ofer_entp_code   data_dt data_tm  \\\n",
       "0     0  2024032100100098155                   U  20240321  001000   \n",
       "1     1  2024032100090896253                   2  20240321  000908   \n",
       "2     2  2024032100053623852                   2  20240321  000536   \n",
       "3     3  2024032100050072449                   U  20240321  000500   \n",
       "4     4  2024032100050059151                   U  20240321  000500   \n",
       "\n",
       "                          hts_pbnt_titl_cntt news_lrdv_code    dorg iscd1  \\\n",
       "0                          [기자의 눈] 벚꽃없는 벚꽃축제             39    서울경제         \n",
       "1              외신들,\"엔비디아 젠슨황이 AI계 스티브 잡스\" 평가             04  한국경제신문         \n",
       "2                베트남 GDP 3% 횡령한 부동산 재벌…사형 구형             09  한국경제신문         \n",
       "3    [사설] “정규직 과보호에 중장년 고용 불안”···노동 유연화 서둘러야             39    서울경제         \n",
       "4  [사설] 의대별 정원 확정, 특위에서 필수?지역 의료 정상화에 머리 맞대라             39    서울경제         \n",
       "\n",
       "  kor_isnm1  \n",
       "0            \n",
       "1            \n",
       "2            \n",
       "3            \n",
       "4            "
      ]
     },
     "execution_count": 38,
     "metadata": {},
     "output_type": "execute_result"
    }
   ],
   "source": [
    "# convert index column to string\n",
    "dfnews['index'] = dfnews['index'].astype(str)\n",
    "dfnews.head()"
   ]
  },
  {
   "cell_type": "code",
   "execution_count": 39,
   "id": "5f644958",
   "metadata": {},
   "outputs": [
    {
     "data": {
      "text/html": [
       "<div>\n",
       "<style scoped>\n",
       "    .dataframe tbody tr th:only-of-type {\n",
       "        vertical-align: middle;\n",
       "    }\n",
       "\n",
       "    .dataframe tbody tr th {\n",
       "        vertical-align: top;\n",
       "    }\n",
       "\n",
       "    .dataframe thead th {\n",
       "        text-align: right;\n",
       "    }\n",
       "</style>\n",
       "<table border=\"1\" class=\"dataframe\">\n",
       "  <thead>\n",
       "    <tr style=\"text-align: right;\">\n",
       "      <th></th>\n",
       "      <th>index</th>\n",
       "      <th>cntt_usiq_srno</th>\n",
       "      <th>news_ofer_entp_code</th>\n",
       "      <th>data_dt</th>\n",
       "      <th>data_tm</th>\n",
       "      <th>hts_pbnt_titl_cntt</th>\n",
       "      <th>news_lrdv_code</th>\n",
       "      <th>dorg</th>\n",
       "      <th>iscd1</th>\n",
       "      <th>kor_isnm1</th>\n",
       "      <th>custom_id</th>\n",
       "      <th>embedding</th>\n",
       "    </tr>\n",
       "  </thead>\n",
       "  <tbody>\n",
       "    <tr>\n",
       "      <th>0</th>\n",
       "      <td>0</td>\n",
       "      <td>2024032100100098155</td>\n",
       "      <td>U</td>\n",
       "      <td>20240321</td>\n",
       "      <td>001000</td>\n",
       "      <td>[기자의 눈] 벚꽃없는 벚꽃축제</td>\n",
       "      <td>39</td>\n",
       "      <td>서울경제</td>\n",
       "      <td></td>\n",
       "      <td></td>\n",
       "      <td>0</td>\n",
       "      <td>[0.02361799, 0.007665091, -0.009329446, -0.016...</td>\n",
       "    </tr>\n",
       "  </tbody>\n",
       "</table>\n",
       "</div>"
      ],
      "text/plain": [
       "  index       cntt_usiq_srno news_ofer_entp_code   data_dt data_tm  \\\n",
       "0     0  2024032100100098155                   U  20240321  001000   \n",
       "\n",
       "  hts_pbnt_titl_cntt news_lrdv_code  dorg iscd1 kor_isnm1 custom_id  \\\n",
       "0  [기자의 눈] 벚꽃없는 벚꽃축제             39  서울경제                         0   \n",
       "\n",
       "                                           embedding  \n",
       "0  [0.02361799, 0.007665091, -0.009329446, -0.016...  "
      ]
     },
     "execution_count": 39,
     "metadata": {},
     "output_type": "execute_result"
    }
   ],
   "source": [
    "# merge dfnews and dfemb on index column and custom_id\n",
    "dfemb = dfnews.merge(dfemb, left_on='index', right_on='custom_id', how='inner')\n",
    "dfemb.head(1)"
   ]
  },
  {
   "cell_type": "code",
   "execution_count": 40,
   "id": "c098d4da",
   "metadata": {},
   "outputs": [],
   "source": [
    "dfemb.drop(columns=['custom_id', 'iscd1','kor_isnm1'], inplace=True, errors='ignore')"
   ]
  },
  {
   "cell_type": "code",
   "execution_count": 41,
   "id": "85ffbb1f",
   "metadata": {},
   "outputs": [
    {
     "data": {
      "text/html": [
       "<div>\n",
       "<style scoped>\n",
       "    .dataframe tbody tr th:only-of-type {\n",
       "        vertical-align: middle;\n",
       "    }\n",
       "\n",
       "    .dataframe tbody tr th {\n",
       "        vertical-align: top;\n",
       "    }\n",
       "\n",
       "    .dataframe thead th {\n",
       "        text-align: right;\n",
       "    }\n",
       "</style>\n",
       "<table border=\"1\" class=\"dataframe\">\n",
       "  <thead>\n",
       "    <tr style=\"text-align: right;\">\n",
       "      <th></th>\n",
       "      <th>index</th>\n",
       "      <th>cntt_usiq_srno</th>\n",
       "      <th>news_ofer_entp_code</th>\n",
       "      <th>data_dt</th>\n",
       "      <th>data_tm</th>\n",
       "      <th>hts_pbnt_titl_cntt</th>\n",
       "      <th>news_lrdv_code</th>\n",
       "      <th>dorg</th>\n",
       "      <th>embedding</th>\n",
       "    </tr>\n",
       "  </thead>\n",
       "  <tbody>\n",
       "    <tr>\n",
       "      <th>0</th>\n",
       "      <td>0</td>\n",
       "      <td>2024032100100098155</td>\n",
       "      <td>U</td>\n",
       "      <td>20240321</td>\n",
       "      <td>001000</td>\n",
       "      <td>[기자의 눈] 벚꽃없는 벚꽃축제</td>\n",
       "      <td>39</td>\n",
       "      <td>서울경제</td>\n",
       "      <td>[0.02361799, 0.007665091, -0.009329446, -0.016...</td>\n",
       "    </tr>\n",
       "    <tr>\n",
       "      <th>1</th>\n",
       "      <td>1</td>\n",
       "      <td>2024032100090896253</td>\n",
       "      <td>2</td>\n",
       "      <td>20240321</td>\n",
       "      <td>000908</td>\n",
       "      <td>외신들,\"엔비디아 젠슨황이 AI계 스티브 잡스\" 평가</td>\n",
       "      <td>04</td>\n",
       "      <td>한국경제신문</td>\n",
       "      <td>[0.01607047, -0.0054703546, 0.0006299249, 0.01...</td>\n",
       "    </tr>\n",
       "    <tr>\n",
       "      <th>2</th>\n",
       "      <td>2</td>\n",
       "      <td>2024032100053623852</td>\n",
       "      <td>2</td>\n",
       "      <td>20240321</td>\n",
       "      <td>000536</td>\n",
       "      <td>베트남 GDP 3% 횡령한 부동산 재벌…사형 구형</td>\n",
       "      <td>09</td>\n",
       "      <td>한국경제신문</td>\n",
       "      <td>[0.029173603, 0.020256389, 0.060813203, 0.0384...</td>\n",
       "    </tr>\n",
       "    <tr>\n",
       "      <th>3</th>\n",
       "      <td>3</td>\n",
       "      <td>2024032100050072449</td>\n",
       "      <td>U</td>\n",
       "      <td>20240321</td>\n",
       "      <td>000500</td>\n",
       "      <td>[사설] “정규직 과보호에 중장년 고용 불안”···노동 유연화 서둘러야</td>\n",
       "      <td>39</td>\n",
       "      <td>서울경제</td>\n",
       "      <td>[0.033023026, 0.077666745, 0.0033049677, 0.037...</td>\n",
       "    </tr>\n",
       "    <tr>\n",
       "      <th>4</th>\n",
       "      <td>4</td>\n",
       "      <td>2024032100050059151</td>\n",
       "      <td>U</td>\n",
       "      <td>20240321</td>\n",
       "      <td>000500</td>\n",
       "      <td>[사설] 의대별 정원 확정, 특위에서 필수?지역 의료 정상화에 머리 맞대라</td>\n",
       "      <td>39</td>\n",
       "      <td>서울경제</td>\n",
       "      <td>[-0.022171568, 0.0067736073, 0.014170361, 0.04...</td>\n",
       "    </tr>\n",
       "  </tbody>\n",
       "</table>\n",
       "</div>"
      ],
      "text/plain": [
       "  index       cntt_usiq_srno news_ofer_entp_code   data_dt data_tm  \\\n",
       "0     0  2024032100100098155                   U  20240321  001000   \n",
       "1     1  2024032100090896253                   2  20240321  000908   \n",
       "2     2  2024032100053623852                   2  20240321  000536   \n",
       "3     3  2024032100050072449                   U  20240321  000500   \n",
       "4     4  2024032100050059151                   U  20240321  000500   \n",
       "\n",
       "                          hts_pbnt_titl_cntt news_lrdv_code    dorg  \\\n",
       "0                          [기자의 눈] 벚꽃없는 벚꽃축제             39    서울경제   \n",
       "1              외신들,\"엔비디아 젠슨황이 AI계 스티브 잡스\" 평가             04  한국경제신문   \n",
       "2                베트남 GDP 3% 횡령한 부동산 재벌…사형 구형             09  한국경제신문   \n",
       "3    [사설] “정규직 과보호에 중장년 고용 불안”···노동 유연화 서둘러야             39    서울경제   \n",
       "4  [사설] 의대별 정원 확정, 특위에서 필수?지역 의료 정상화에 머리 맞대라             39    서울경제   \n",
       "\n",
       "                                           embedding  \n",
       "0  [0.02361799, 0.007665091, -0.009329446, -0.016...  \n",
       "1  [0.01607047, -0.0054703546, 0.0006299249, 0.01...  \n",
       "2  [0.029173603, 0.020256389, 0.060813203, 0.0384...  \n",
       "3  [0.033023026, 0.077666745, 0.0033049677, 0.037...  \n",
       "4  [-0.022171568, 0.0067736073, 0.014170361, 0.04...  "
      ]
     },
     "execution_count": 41,
     "metadata": {},
     "output_type": "execute_result"
    }
   ],
   "source": [
    "dfemb.head()"
   ]
  },
  {
   "cell_type": "code",
   "execution_count": 42,
   "id": "0f6f80ce",
   "metadata": {},
   "outputs": [],
   "source": [
    "import numpy as np\n",
    "from sklearn.metrics.pairwise import cosine_similarity"
   ]
  },
  {
   "cell_type": "code",
   "execution_count": 43,
   "id": "2585bc30",
   "metadata": {},
   "outputs": [],
   "source": [
    "texts = dfemb.hts_pbnt_titl_cntt.to_list()\n",
    "embeddings = np.array(dfemb.embedding.to_list())"
   ]
  },
  {
   "cell_type": "code",
   "execution_count": 44,
   "id": "8978a393",
   "metadata": {},
   "outputs": [],
   "source": [
    "similarity_mtx = cosine_similarity(embeddings)"
   ]
  },
  {
   "cell_type": "code",
   "execution_count": null,
   "id": "be938854",
   "metadata": {},
   "outputs": [
    {
     "data": {
      "text/plain": [
       "(10401, 10401)"
      ]
     },
     "execution_count": 60,
     "metadata": {},
     "output_type": "execute_result"
    }
   ],
   "source": [
    "similarity_mtx"
   ]
  },
  {
   "cell_type": "code",
   "execution_count": 62,
   "id": "9f4fb6ab",
   "metadata": {},
   "outputs": [
    {
     "data": {
      "text/plain": [
       "array([   0, 3416, 7422, ..., 1878, 1920, 2245], dtype=int64)"
      ]
     },
     "execution_count": 62,
     "metadata": {},
     "output_type": "execute_result"
    }
   ],
   "source": [
    "similarity_mtx[0].argsort()[::-1]"
   ]
  },
  {
   "cell_type": "code",
   "execution_count": 63,
   "id": "66ab5c64",
   "metadata": {},
   "outputs": [
    {
     "data": {
      "text/plain": [
       "\"'3월 벚꽃축제' 안양천서 열린다\""
      ]
     },
     "execution_count": 63,
     "metadata": {},
     "output_type": "execute_result"
    }
   ],
   "source": [
    "texts[3416]"
   ]
  },
  {
   "cell_type": "code",
   "execution_count": 64,
   "id": "830054d4",
   "metadata": {},
   "outputs": [
    {
     "data": {
      "text/plain": [
       "'벚꽃·유채꽃·철쭉 흐드러진 경남, 봄꽃 축제 보러 오세요'"
      ]
     },
     "execution_count": 64,
     "metadata": {},
     "output_type": "execute_result"
    }
   ],
   "source": [
    "texts[7422]"
   ]
  },
  {
   "cell_type": "markdown",
   "id": "c9d2cf22",
   "metadata": {},
   "source": [
    "### Mapping stock meta to news"
   ]
  },
  {
   "cell_type": "code",
   "execution_count": 51,
   "id": "68137907",
   "metadata": {},
   "outputs": [],
   "source": [
    "import httpx\n",
    "import openai\n",
    "\n",
    "from openai import OpenAI\n",
    "from dotenv import load_dotenv"
   ]
  },
  {
   "cell_type": "code",
   "execution_count": 52,
   "id": "0c7ce948",
   "metadata": {},
   "outputs": [],
   "source": [
    "load_dotenv()\n",
    "httpx_client= httpx.Client(verify=False) #, timeout=60)\n",
    "openai.api_key  = os.environ['OPENAI_API_KEY']\n",
    "client = OpenAI(http_client=httpx_client)"
   ]
  },
  {
   "cell_type": "code",
   "execution_count": 90,
   "id": "ba308331",
   "metadata": {},
   "outputs": [
    {
     "data": {
      "text/plain": [
       "'SK하이닉스는 반도체 제조업에 속하는 전기,전자 업종의 시가총액 규모대 기업입니다.'"
      ]
     },
     "execution_count": 90,
     "metadata": {},
     "output_type": "execute_result"
    }
   ],
   "source": [
    "stksentence = dfstsent.iloc[40,1]\n",
    "stksentence"
   ]
  },
  {
   "cell_type": "code",
   "execution_count": 91,
   "id": "4355a32e",
   "metadata": {},
   "outputs": [],
   "source": [
    "response_1 = client.embeddings.create(\n",
    "    input=stksentence,\n",
    "    model=\"text-embedding-3-small\",\n",
    "    encoding_format=\"float\"\n",
    ")"
   ]
  },
  {
   "cell_type": "code",
   "execution_count": 92,
   "id": "b11ebc5a",
   "metadata": {},
   "outputs": [],
   "source": [
    "stkemb = np.array(response_1.data[0].embedding)"
   ]
  },
  {
   "cell_type": "code",
   "execution_count": 93,
   "id": "56ae7a0d",
   "metadata": {},
   "outputs": [],
   "source": [
    "embsearch_res = cosine_similarity(embeddings, stkemb.reshape(1, -1)).flatten()"
   ]
  },
  {
   "cell_type": "code",
   "execution_count": 94,
   "id": "1068621e",
   "metadata": {},
   "outputs": [
    {
     "data": {
      "text/plain": [
       "'SK하이닉스, 내년 3월 세계 최대 반도체 공장 짓는다'"
      ]
     },
     "execution_count": 94,
     "metadata": {},
     "output_type": "execute_result"
    }
   ],
   "source": [
    "texts[embsearch_res.argmax()]"
   ]
  },
  {
   "cell_type": "code",
   "execution_count": 95,
   "id": "ccf1794f",
   "metadata": {},
   "outputs": [
    {
     "name": "stdout",
     "output_type": "stream",
     "text": [
      "Similarity: 0.6279 - SK하이닉스, 내년 3월 세계 최대 반도체 공장 짓는다\n",
      "Similarity: 0.5738 - SK하이닉스 최첨단 반도체 생산기지 내년 3월 착공…2027년 완공\n",
      "Similarity: 0.5197 - SK하이닉스(000660)  +5.05%, 삼성전자 +2.60%, DB하이텍 +1.01%\n",
      "Similarity: 0.4939 - 미국發 반도체 호재 만발…삼성전자·SK하이닉스 '강세'\n",
      "Similarity: 0.4874 - SK하이닉스, 본격 AI 시대 발맞춰 … 고성능·고용량 메모리 양산 박차\n",
      "Similarity: 0.4781 - 마이크론 훈풍에 SK하이닉스 8%\u001a삼성전자 3%…반도체 동반강세(종합)\n",
      "Similarity: 0.4720 - SK하이닉스, 용인 반도체 클러스터 내년 3월 착공\n",
      "Similarity: 0.4398 - LG화학, 모로코 산업단지서 '해수 담수화' 역삼투막 공급\n",
      "Similarity: 0.4396 - ‘반도체 풍향계’ 마이크론 매출 급등에 주가 15% 껑충…하이닉스·삼성전자도 동반상승\n",
      "Similarity: 0.4345 - LG화학, 세계 최대 비료단지에 해수담수화 역삼투막 공급\n"
     ]
    }
   ],
   "source": [
    "for embi in embsearch_res.argsort()[::-1][:10]:\n",
    "    print(f\"Similarity: {embsearch_res[embi]:.4f} - {texts[embi]}\")"
   ]
  },
  {
   "cell_type": "code",
   "execution_count": null,
   "id": "b42d182d",
   "metadata": {},
   "outputs": [],
   "source": []
  }
 ],
 "metadata": {
  "kernelspec": {
   "display_name": "general",
   "language": "python",
   "name": "python3"
  },
  "language_info": {
   "codemirror_mode": {
    "name": "ipython",
    "version": 3
   },
   "file_extension": ".py",
   "mimetype": "text/x-python",
   "name": "python",
   "nbconvert_exporter": "python",
   "pygments_lexer": "ipython3",
   "version": "3.11.9"
  }
 },
 "nbformat": 4,
 "nbformat_minor": 5
}
