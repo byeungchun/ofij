{
 "cells": [
  {
   "cell_type": "code",
   "execution_count": 1,
   "metadata": {},
   "outputs": [],
   "source": [
    "import os\n",
    "import json\n",
    "import time\n",
    "import httpx\n",
    "import openai\n",
    "\n",
    "import pandas as pd\n",
    "\n",
    "from datetime import datetime\n",
    "from tqdm import tqdm\n",
    "from dotenv import load_dotenv\n",
    "from openai import OpenAI \n",
    "from glob import glob"
   ]
  },
  {
   "cell_type": "code",
   "execution_count": 4,
   "metadata": {},
   "outputs": [],
   "source": [
    "base_dir = os.path.join(os.path.expanduser('~'), 'data','ofij')\n",
    "if not os.path.exists(base_dir):\n",
    "    os.makedirs(base_dir)\n",
    "\n",
    "stmeta_file = os.path.join(base_dir,'stock_meta.feather')\n",
    "news_files = glob(os.path.join(base_dir, 'news*.feather'))\n",
    "output_filepath = os.path.join(base_dir, \"batch_embedding_output.jsonl\")\n"
   ]
  },
  {
   "cell_type": "code",
   "execution_count": null,
   "metadata": {},
   "outputs": [],
   "source": [
    "dfnews = pd.read_feather(news_files[0])"
   ]
  },
  {
   "cell_type": "code",
   "execution_count": null,
   "metadata": {},
   "outputs": [],
   "source": [
    "dfnews.head()"
   ]
  },
  {
   "cell_type": "code",
   "execution_count": null,
   "metadata": {},
   "outputs": [],
   "source": [
    "dfnews.shape"
   ]
  },
  {
   "cell_type": "code",
   "execution_count": null,
   "metadata": {},
   "outputs": [],
   "source": [
    "dfnews = dfnews.drop_duplicates()\n",
    "dfnews.shape"
   ]
  },
  {
   "cell_type": "code",
   "execution_count": null,
   "metadata": {},
   "outputs": [],
   "source": [
    "texts_jsonl = []\n",
    "for i, row in dfnews.iterrows():\n",
    "    texts_jsonl.append({\n",
    "        'custom_id': str(i), \n",
    "        'method': 'POST',\n",
    "        'url': '/v1/embeddings',\n",
    "        'body': {\n",
    "            'input': row['hts_pbnt_titl_cntt'], \n",
    "            'model':'text-embedding-3-small',\n",
    "            'encoding_format': 'float'\n",
    "            }\n",
    "        }\n",
    "    )"
   ]
  },
  {
   "cell_type": "code",
   "execution_count": null,
   "metadata": {},
   "outputs": [],
   "source": [
    "texts_jsonl[:5]"
   ]
  },
  {
   "cell_type": "code",
   "execution_count": null,
   "metadata": {},
   "outputs": [],
   "source": [
    "# save texts_jsonl to file\n",
    "text_jsonfile = os.path.join(base_dir,'news_texts.jsonl')\n",
    "with open(text_jsonfile, 'w', encoding='utf-8') as f:\n",
    "    for text in texts_jsonl:\n",
    "        jsonrec = json.dumps(text, ensure_ascii=False)\n",
    "        f.write(f'{jsonrec}\\n')"
   ]
  },
  {
   "cell_type": "code",
   "execution_count": null,
   "metadata": {},
   "outputs": [],
   "source": [
    "load_dotenv()"
   ]
  },
  {
   "cell_type": "code",
   "execution_count": null,
   "metadata": {},
   "outputs": [],
   "source": [
    "httpx_client= httpx.Client(verify=False) #, timeout=60)\n",
    "openai.api_key  = os.environ['OPENAI_API_KEY']\n",
    "client = OpenAI(http_client=httpx_client)"
   ]
  },
  {
   "cell_type": "code",
   "execution_count": null,
   "metadata": {},
   "outputs": [],
   "source": [
    "batch_input_file = client.files.create(\n",
    "    file=open(text_jsonfile, \"rb\"),\n",
    "    purpose=\"batch\"\n",
    ")\n",
    "batch_input_file_id = batch_input_file.id"
   ]
  },
  {
   "cell_type": "code",
   "execution_count": null,
   "metadata": {},
   "outputs": [],
   "source": [
    "batch_input_file_id"
   ]
  },
  {
   "cell_type": "code",
   "execution_count": null,
   "metadata": {},
   "outputs": [],
   "source": [
    "# Create batch embedding request\n",
    "batch_embedding_obj = client.batches.create(\n",
    "    input_file_id=batch_input_file_id,\n",
    "    endpoint=\"/v1/embeddings\",\n",
    "    completion_window=\"24h\",\n",
    "    metadata={\n",
    "        \"description\": \"Embedding batch run\"\n",
    "    }\n",
    ")\n",
    "\n",
    "print(f\"Embedding Batch ID: {batch_embedding_obj.id}\")"
   ]
  },
  {
   "cell_type": "code",
   "execution_count": null,
   "metadata": {},
   "outputs": [],
   "source": [
    "batch_id = batch_embedding_obj.id\n",
    "\n",
    "POLL_INTERVAL = 60\n",
    "\n",
    "def timestamp():\n",
    "    return datetime.now().strftime(\"%Y-%m-%d %H:%M:%S\")\n",
    "\n",
    "while True:\n",
    "    batch_status = client.batches.retrieve(batch_id)\n",
    "    current_status = batch_status.status\n",
    "    print(f\"[{timestamp()}] Batch status: {current_status}\")\n",
    "\n",
    "    if current_status == \"completed\":\n",
    "        print(f\"[{timestamp()}] ✅ Batch completed successfully!\")\n",
    "\n",
    "        output_file_id = batch_status.output_file_id\n",
    "        output_file = client.files.retrieve(output_file_id)\n",
    "\n",
    "        result = client.files.content(output_file_id)\n",
    "    \n",
    "        with open(output_filepath, \"wb\") as f:\n",
    "            f.write(result.content)\n",
    "        print(f\"[{timestamp()}] ✅ Embedding results saved at: {output_filepath}\")\n",
    "        break\n",
    "\n",
    "    elif current_status in {\"failed\", \"cancelled\", \"expired\"}:\n",
    "        print(f\"[{timestamp()}] ❌ Batch terminated with status: {current_status}. Please check logs on OpenAI's dashboard.\")\n",
    "        break\n",
    "\n",
    "    time.sleep(POLL_INTERVAL)\n",
    "\n",
    "print(f\"[{timestamp()}] 🎉 Monitoring script finished.\")"
   ]
  },
  {
   "cell_type": "code",
   "execution_count": 7,
   "metadata": {},
   "outputs": [],
   "source": [
    "resobj = []\n",
    "with open(output_filepath, 'r', encoding='utf-8') as f:\n",
    "\tfor line in f:\n",
    "\t\tresobj.append(json.loads(line))"
   ]
  },
  {
   "cell_type": "code",
   "execution_count": 15,
   "metadata": {},
   "outputs": [
    {
     "data": {
      "text/plain": [
       "'0'"
      ]
     },
     "execution_count": 15,
     "metadata": {},
     "output_type": "execute_result"
    }
   ],
   "source": [
    "resobj[0]['custom_id']"
   ]
  },
  {
   "cell_type": "code",
   "execution_count": null,
   "metadata": {},
   "outputs": [],
   "source": [
    "resobj[0]['response']['body']['data'][0]['embedding']"
   ]
  },
  {
   "cell_type": "code",
   "execution_count": null,
   "metadata": {},
   "outputs": [],
   "source": [
    "client.close()"
   ]
  },
  {
   "cell_type": "code",
   "execution_count": null,
   "metadata": {},
   "outputs": [],
   "source": []
  }
 ],
 "metadata": {
  "kernelspec": {
   "display_name": "general",
   "language": "python",
   "name": "python3"
  },
  "language_info": {
   "codemirror_mode": {
    "name": "ipython",
    "version": 3
   },
   "file_extension": ".py",
   "mimetype": "text/x-python",
   "name": "python",
   "nbconvert_exporter": "python",
   "pygments_lexer": "ipython3",
   "version": "3.11.9"
  }
 },
 "nbformat": 4,
 "nbformat_minor": 2
}
