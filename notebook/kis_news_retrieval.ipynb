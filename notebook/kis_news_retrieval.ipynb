{
 "cells": [
  {
   "cell_type": "code",
   "execution_count": 1,
   "metadata": {},
   "outputs": [],
   "source": [
    "# Ensure pycryptodome is installed\n",
    "try:\n",
    "    import Crypto\n",
    "except ModuleNotFoundError:\n",
    "    %pip install pycryptodome"
   ]
  },
  {
   "cell_type": "code",
   "execution_count": 1,
   "metadata": {},
   "outputs": [],
   "source": [
    "import sys\n",
    "sys.path.append(r\"../util\")"
   ]
  },
  {
   "cell_type": "code",
   "execution_count": 2,
   "metadata": {},
   "outputs": [],
   "source": [
    "import kis_auth as ka\n",
    "import kis_domstk as kb\n",
    "\n",
    "import os\n",
    "import time\n",
    "import logging\n",
    "import pandas as pd\n",
    "from datetime import datetime, timedelta\n",
    "from tqdm import tqdm"
   ]
  },
  {
   "cell_type": "code",
   "execution_count": 3,
   "metadata": {},
   "outputs": [],
   "source": [
    "ka.auth()"
   ]
  },
  {
   "cell_type": "code",
   "execution_count": 6,
   "metadata": {},
   "outputs": [],
   "source": [
    "\n",
    "hhmmss = datetime.strptime('200111', \"%H%M%S\").strftime(\"%H%M%S\").rjust(10, \"0\")"
   ]
  },
  {
   "cell_type": "code",
   "execution_count": null,
   "metadata": {},
   "outputs": [
    {
     "ename": "AttributeError",
     "evalue": "module 'kis_domstk' has no attribute 'get_news_title'",
     "output_type": "error",
     "traceback": [
      "\u001b[1;31m---------------------------------------------------------------------------\u001b[0m",
      "\u001b[1;31mAttributeError\u001b[0m                            Traceback (most recent call last)",
      "Cell \u001b[1;32mIn[7], line 1\u001b[0m\n\u001b[1;32m----> 1\u001b[0m res \u001b[38;5;241m=\u001b[39m \u001b[43mkb\u001b[49m\u001b[38;5;241;43m.\u001b[39;49m\u001b[43mget_news_title\u001b[49m(date_1\u001b[38;5;241m=\u001b[39m\u001b[38;5;124m'\u001b[39m\u001b[38;5;124m20250413\u001b[39m\u001b[38;5;124m'\u001b[39m, hour_1\u001b[38;5;241m=\u001b[39mhhmmss)\n",
      "\u001b[1;31mAttributeError\u001b[0m: module 'kis_domstk' has no attribute 'get_news_title'"
     ]
    },
    {
     "ename": "",
     "evalue": "",
     "output_type": "error",
     "traceback": [
      "\u001b[1;31mThe Kernel crashed while executing code in the current cell or a previous cell. \n",
      "\u001b[1;31mPlease review the code in the cell(s) to identify a possible cause of the failure. \n",
      "\u001b[1;31mClick <a href='https://aka.ms/vscodeJupyterKernelCrash'>here</a> for more info. \n",
      "\u001b[1;31mView Jupyter <a href='command:jupyter.viewOutput'>log</a> for further details."
     ]
    }
   ],
   "source": [
    "res = kb.get_news_title(date_1='20250413', hour_1=hhmmss)"
   ]
  },
  {
   "cell_type": "code",
   "execution_count": null,
   "metadata": {},
   "outputs": [],
   "source": []
  },
  {
   "cell_type": "code",
   "execution_count": null,
   "metadata": {},
   "outputs": [
    {
     "name": "stderr",
     "output_type": "stream",
     "text": [
      "0iteration [00:00, ?iteration/s]"
     ]
    },
    {
     "name": "stderr",
     "output_type": "stream",
     "text": [
      "date = 20240323, hour = 171010: : 6121iteration [3:10:37,  1.87s/iteration]\n",
      "date = 20240322, hour = 235850: : 8573iteration [4:28:06,  1.88s/iteration]\n",
      "date = 20240321, hour = 235850: : 8573iteration [4:26:38,  1.87s/iteration]\n",
      "date = 20240320, hour = 034120: : 1268iteration [39:20,  1.86s/iteration]"
     ]
    },
    {
     "ename": "KeyboardInterrupt",
     "evalue": "",
     "output_type": "error",
     "traceback": [
      "\u001b[1;31m---------------------------------------------------------------------------\u001b[0m",
      "\u001b[1;31mKeyboardInterrupt\u001b[0m                         Traceback (most recent call last)",
      "Cell \u001b[1;32mIn[5], line 38\u001b[0m\n\u001b[0;32m     35\u001b[0m     \u001b[38;5;28;01mbreak\u001b[39;00m\n\u001b[0;32m     37\u001b[0m hhmmss \u001b[38;5;241m=\u001b[39m hhmmss_datetime\u001b[38;5;241m.\u001b[39mstrftime(\u001b[38;5;124m\"\u001b[39m\u001b[38;5;124m%\u001b[39m\u001b[38;5;124mH\u001b[39m\u001b[38;5;124m%\u001b[39m\u001b[38;5;124mM\u001b[39m\u001b[38;5;124m%\u001b[39m\u001b[38;5;124mS\u001b[39m\u001b[38;5;124m\"\u001b[39m)\u001b[38;5;241m.\u001b[39mrjust(\u001b[38;5;241m10\u001b[39m, \u001b[38;5;124m\"\u001b[39m\u001b[38;5;124m0\u001b[39m\u001b[38;5;124m\"\u001b[39m)\n\u001b[1;32m---> 38\u001b[0m time\u001b[38;5;241m.\u001b[39msleep(\u001b[38;5;241m1\u001b[39m)\n\u001b[0;32m     39\u001b[0m pbar\u001b[38;5;241m.\u001b[39mset_description(\u001b[38;5;124mf\u001b[39m\u001b[38;5;124m'\u001b[39m\u001b[38;5;124mdate = \u001b[39m\u001b[38;5;132;01m{\u001b[39;00myyyymmdd[\u001b[38;5;241m2\u001b[39m:]\u001b[38;5;132;01m}\u001b[39;00m\u001b[38;5;124m, hour = \u001b[39m\u001b[38;5;132;01m{\u001b[39;00mhhmmss[\u001b[38;5;241m4\u001b[39m:]\u001b[38;5;132;01m}\u001b[39;00m\u001b[38;5;124m'\u001b[39m)\n\u001b[0;32m     40\u001b[0m pbar\u001b[38;5;241m.\u001b[39mupdate(\u001b[38;5;241m1\u001b[39m)\n",
      "\u001b[1;31mKeyboardInterrupt\u001b[0m: "
     ]
    }
   ],
   "source": [
    "# Set paths and configure logging to save to a file\n",
    "destdir = r'E:\\data\\kis\\news'\n",
    "os.makedirs(destdir, exist_ok=True)\n",
    "\n",
    "log_file_path = os.path.join(destdir, 'news_processing.log')\n",
    "logging.basicConfig(filename=log_file_path, level=logging.INFO, format='%(asctime)s - %(levelname)s - %(message)s')\n",
    "\n",
    "\n",
    "# Set date range\n",
    "start_date = datetime(2024, 1, 1)\n",
    "end_date = datetime(2024, 3, 23)\n",
    "\n",
    "# Generate a list of dates\n",
    "dates = [(start_date + timedelta(days=x)).strftime('%Y%m%d') for x in range((end_date - start_date).days + 1)]\n",
    "dates.sort(reverse=True)\n",
    "\n",
    "# Columns to drop\n",
    "dropcols = ['iscd2', 'iscd3', 'iscd4', 'iscd5', 'iscd6', \n",
    "            'iscd7', 'iscd8', 'iscd9', 'iscd10', \n",
    "            'kor_isnm2', 'kor_isnm3', 'kor_isnm4', \n",
    "            'kor_isnm5', 'kor_isnm6', 'kor_isnm7', \n",
    "            'kor_isnm8', 'kor_isnm9', 'kor_isnm10']\n",
    "\n",
    "for yyyymmdd in dates:\n",
    "    yyyymmdd = yyyymmdd.rjust(10, \"0\")\n",
    "    hhmmss = \"0000001000\"\n",
    "    lstdf = []\n",
    "\n",
    "    # Progress bar\n",
    "    pbar = tqdm(total=0, unit=\"iteration\", dynamic_ncols=True)\n",
    "\n",
    "    while True:\n",
    "        try:\n",
    "            # Fetch news titles\n",
    "            news_titles_df = kb.get_news_titles(date_1=yyyymmdd, hour_1=hhmmss)\n",
    "            if len(news_titles_df) > 0:\n",
    "                lstdf.append(pd.DataFrame(news_titles_df))\n",
    "            \n",
    "            # Update time\n",
    "            hhmmss_datetime = datetime.strptime(hhmmss[-6:], \"%H%M%S\") + timedelta(seconds=10)\n",
    "            \n",
    "            if hhmmss_datetime >= datetime.strptime(\"235900\", \"%H%M%S\"):\n",
    "                break\n",
    "            \n",
    "            hhmmss = hhmmss_datetime.strftime(\"%H%M%S\").rjust(10, \"0\")\n",
    "            time.sleep(1)\n",
    "            pbar.set_description(f'date = {yyyymmdd[2:]}, hour = {hhmmss[4:]}')\n",
    "            pbar.update(1)\n",
    "\n",
    "        except Exception as e:\n",
    "            logging.error(f\"Error fetching data for {yyyymmdd} at {hhmmss}: {e}\")\n",
    "            break\n",
    "\n",
    "    pbar.close()\n",
    "\n",
    "    if lstdf:\n",
    "        try:\n",
    "            # Concatenate data frames and save to file\n",
    "            df = pd.concat(lstdf, ignore_index=True)\n",
    "            df.drop(dropcols, axis=1, inplace=True)\n",
    "            file_path = os.path.join(destdir, f'news_titles_{yyyymmdd[2:]}.feather')\n",
    "            df.to_feather(file_path)\n",
    "            logging.info(f\"Data saved to {file_path}\")\n",
    "        except Exception as e:\n",
    "            logging.error(f\"Error processing data for {yyyymmdd}: {e}\")\n",
    "    else:\n",
    "        logging.info(f\"No data available for {yyyymmdd}\")\n",
    "\n",
    "# Output log file path if needed\n",
    "logging.info(f\"Logs saved to: {log_file_path}\")"
   ]
  }
 ],
 "metadata": {
  "kernelspec": {
   "display_name": "iseeyou",
   "language": "python",
   "name": "python3"
  },
  "language_info": {
   "codemirror_mode": {
    "name": "ipython",
    "version": 3
   },
   "file_extension": ".py",
   "mimetype": "text/x-python",
   "name": "python",
   "nbconvert_exporter": "python",
   "pygments_lexer": "ipython3",
   "version": "3.11.2"
  }
 },
 "nbformat": 4,
 "nbformat_minor": 2
}
