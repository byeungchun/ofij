{
 "cells": [
  {
   "cell_type": "code",
   "execution_count": 6,
   "id": "be46a404",
   "metadata": {},
   "outputs": [],
   "source": [
    "import os\n",
    "import duckdb\n",
    "import pandas as pd\n",
    "from sqlalchemy import create_engine, text"
   ]
  },
  {
   "cell_type": "code",
   "execution_count": 10,
   "id": "634a7250",
   "metadata": {},
   "outputs": [],
   "source": [
    "# Step 1: Load data from DuckDB\n",
    "duckdb_file = os.path.join(os.path.expanduser(\"~\"), 'downloads', 'news_database.duckdb')\n",
    "table_name = 'news_titles'  # <-- change this to your actual table name\n",
    "\n",
    "con = duckdb.connect(database=duckdb_file, read_only=True)\n",
    "\n",
    "df = con.execute(f\"SELECT * FROM news_database.main.news_titles\").df()\n",
    "con.close()"
   ]
  },
  {
   "cell_type": "code",
   "execution_count": null,
   "id": "cc342aac",
   "metadata": {},
   "outputs": [
    {
     "name": "stdout",
     "output_type": "stream",
     "text": [
      "[✓] Table and data migrated from DuckDB to MySQL successfully!\n"
     ]
    }
   ],
   "source": [
    "duckdb_table = 'news_titles'\n",
    "\n",
    "# Step 2: Connect to MySQL\n",
    "mysql_host = 'db.gonggamai.com'\n",
    "mysql_db = 'dbofij'\n",
    "mysql_user = 'ofij'     # <-- provide your MySQL username\n",
    "mysql_pass = ''     # <-- provide your MySQL password\n",
    "\n",
    "create_table_sql = \"\"\"\n",
    "CREATE TABLE IF NOT EXISTS news_titles (\n",
    "    cntt_usiq_srno VARCHAR(255) NOT NULL UNIQUE,\n",
    "    news_ofer_entp_code VARCHAR(255),\n",
    "    data_dt VARCHAR(32),\n",
    "    data_tm VARCHAR(32),\n",
    "    hts_pbnt_titl_cntt TEXT,\n",
    "    news_lrdv_code VARCHAR(255),\n",
    "    dorg VARCHAR(255),\n",
    "    iscd1 VARCHAR(255),\n",
    "    kor_isnm1 VARCHAR(255)\n",
    ");\n",
    "\"\"\"\n",
    "\n",
    "# 3. Connect to MySQL\n",
    "engine = create_engine(f\"mysql+pymysql://{mysql_user}:{mysql_pass}@{mysql_host}/{mysql_db}\")\n",
    "\n",
    "# 4. Create the table if it doesn't exist\n",
    "with engine.connect() as conn:\n",
    "    conn.execute(text(create_table_sql))\n",
    "\n",
    "# 5. Insert DataFrame data into MySQL\n",
    "# Use 'append', because we have already created the table with the schema we want.\n",
    "df.to_sql(duckdb_table, con=engine, if_exists='append', index=False, method='multi')\n",
    "\n",
    "print(\"[✓] Table and data migrated from DuckDB to MySQL successfully!\")"
   ]
  },
  {
   "cell_type": "code",
   "execution_count": 11,
   "id": "6b209b1a",
   "metadata": {},
   "outputs": [
    {
     "data": {
      "text/plain": [
       "(6937, 9)"
      ]
     },
     "execution_count": 11,
     "metadata": {},
     "output_type": "execute_result"
    }
   ],
   "source": [
    "df.shape"
   ]
  },
  {
   "cell_type": "code",
   "execution_count": null,
   "id": "f57bf4ae",
   "metadata": {},
   "outputs": [],
   "source": []
  }
 ],
 "metadata": {
  "kernelspec": {
   "display_name": "iseeyou",
   "language": "python",
   "name": "python3"
  },
  "language_info": {
   "codemirror_mode": {
    "name": "ipython",
    "version": 3
   },
   "file_extension": ".py",
   "mimetype": "text/x-python",
   "name": "python",
   "nbconvert_exporter": "python",
   "pygments_lexer": "ipython3",
   "version": "3.11.2"
  }
 },
 "nbformat": 4,
 "nbformat_minor": 5
}
